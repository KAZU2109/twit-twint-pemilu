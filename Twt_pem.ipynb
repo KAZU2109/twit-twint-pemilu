{
 "cells": [
  {
   "cell_type": "code",
   "execution_count": 2,
   "id": "0ae490db",
   "metadata": {},
   "outputs": [],
   "source": [
    "import pandas as pd\n",
    "import numpy as np\n",
    "import matplotlib.pyplot as plt\n",
    "import seaborn as sns\n",
    "import json\n",
    "import itertools\n",
    "import pytz \n",
    "import re\n",
    "import ast\n",
    "import string\n",
    "import nltk\n",
    "import googletransx\n",
    "from nltk.corpus import stopwords\n",
    "from nltk.tokenize import word_tokenize\n",
    "from Sastrawi.Stemmer.StemmerFactory import StemmerFactory\n",
    "from wordcloud import WordCloud, STOPWORDS\n",
    "from googletransx import Translator\n",
    "from datetime import datetime,timedelta\n",
    "\n",
    "#nltk.download('punkt')\n",
    "#nltk.download('stopwords')\n",
    "import os\n",
    "import requests"
   ]
  },
  {
   "cell_type": "code",
   "execution_count": 3,
   "id": "3f949cf0",
   "metadata": {},
   "outputs": [
    {
     "data": {
      "text/html": [
       "<div>\n",
       "<style scoped>\n",
       "    .dataframe tbody tr th:only-of-type {\n",
       "        vertical-align: middle;\n",
       "    }\n",
       "\n",
       "    .dataframe tbody tr th {\n",
       "        vertical-align: top;\n",
       "    }\n",
       "\n",
       "    .dataframe thead th {\n",
       "        text-align: right;\n",
       "    }\n",
       "</style>\n",
       "<table border=\"1\" class=\"dataframe\">\n",
       "  <thead>\n",
       "    <tr style=\"text-align: right;\">\n",
       "      <th></th>\n",
       "      <th>username</th>\n",
       "      <th>date</th>\n",
       "      <th>tweet</th>\n",
       "      <th>link</th>\n",
       "    </tr>\n",
       "  </thead>\n",
       "  <tbody>\n",
       "    <tr>\n",
       "      <th>0</th>\n",
       "      <td>jakulunlappung</td>\n",
       "      <td>2022-12-03</td>\n",
       "      <td>Garut Sisca Innalillahi Pangandaran Kebumen Ba...</td>\n",
       "      <td>https://twitter.com/jakulunlappung/status/1598...</td>\n",
       "    </tr>\n",
       "    <tr>\n",
       "      <th>1</th>\n",
       "      <td>pkartawidjaja</td>\n",
       "      <td>2022-12-03</td>\n",
       "      <td>@MrsRachelIn @NasDem @Metro_TV @mohmahfudmd @K...</td>\n",
       "      <td>https://twitter.com/PKartawidjaja/status/15989...</td>\n",
       "    </tr>\n",
       "    <tr>\n",
       "      <th>2</th>\n",
       "      <td>sanyalkadrie</td>\n",
       "      <td>2022-12-03</td>\n",
       "      <td>@geloraco Contoh jelasnya PJ Gub DKI.. serasa ...</td>\n",
       "      <td>https://twitter.com/sanyalkadrie/status/159898...</td>\n",
       "    </tr>\n",
       "    <tr>\n",
       "      <th>3</th>\n",
       "      <td>_4iii_na_t3h5h</td>\n",
       "      <td>2022-12-03</td>\n",
       "      <td>@DeeRose782 Begini nih kalau ODGJ diijinkan ik...</td>\n",
       "      <td>https://twitter.com/_4iii_Na_T3H5h/status/1598...</td>\n",
       "    </tr>\n",
       "    <tr>\n",
       "      <th>4</th>\n",
       "      <td>tommyesa78</td>\n",
       "      <td>2022-12-03</td>\n",
       "      <td>Se arogan ini kah mereka? Begitu bernafsunya m...</td>\n",
       "      <td>https://twitter.com/Tommyesa78/status/15989881...</td>\n",
       "    </tr>\n",
       "  </tbody>\n",
       "</table>\n",
       "</div>"
      ],
      "text/plain": [
       "         username        date  \\\n",
       "0  jakulunlappung  2022-12-03   \n",
       "1   pkartawidjaja  2022-12-03   \n",
       "2    sanyalkadrie  2022-12-03   \n",
       "3  _4iii_na_t3h5h  2022-12-03   \n",
       "4      tommyesa78  2022-12-03   \n",
       "\n",
       "                                               tweet  \\\n",
       "0  Garut Sisca Innalillahi Pangandaran Kebumen Ba...   \n",
       "1  @MrsRachelIn @NasDem @Metro_TV @mohmahfudmd @K...   \n",
       "2  @geloraco Contoh jelasnya PJ Gub DKI.. serasa ...   \n",
       "3  @DeeRose782 Begini nih kalau ODGJ diijinkan ik...   \n",
       "4  Se arogan ini kah mereka? Begitu bernafsunya m...   \n",
       "\n",
       "                                                link  \n",
       "0  https://twitter.com/jakulunlappung/status/1598...  \n",
       "1  https://twitter.com/PKartawidjaja/status/15989...  \n",
       "2  https://twitter.com/sanyalkadrie/status/159898...  \n",
       "3  https://twitter.com/_4iii_Na_T3H5h/status/1598...  \n",
       "4  https://twitter.com/Tommyesa78/status/15989881...  "
      ]
     },
     "execution_count": 3,
     "metadata": {},
     "output_type": "execute_result"
    }
   ],
   "source": [
    "df = pd.read_csv('twet_data.csv')\n",
    "df.head()"
   ]
  },
  {
   "cell_type": "code",
   "execution_count": 4,
   "id": "f95d925e",
   "metadata": {},
   "outputs": [],
   "source": [
    "def tl(x,src):\n",
    "    trans = Translator()\n",
    "    try:\n",
    "        twet = trans.translate(x, src=src, dest='id').text\n",
    "    except:\n",
    "        twet = x\n",
    "    return twet"
   ]
  },
  {
   "cell_type": "code",
   "execution_count": 5,
   "id": "e112ed96",
   "metadata": {},
   "outputs": [],
   "source": [
    "#df['tweet'] = df.apply(lambda x: tl(x['tweet'] if else, 'en'),axis=1)"
   ]
  },
  {
   "attachments": {},
   "cell_type": "markdown",
   "id": "917658d1",
   "metadata": {},
   "source": [
    "## Cleaning"
   ]
  },
  {
   "cell_type": "code",
   "execution_count": 6,
   "id": "2a057139",
   "metadata": {},
   "outputs": [],
   "source": [
    "txt = df['tweet'].copy()"
   ]
  },
  {
   "cell_type": "code",
   "execution_count": 7,
   "id": "d078df3a",
   "metadata": {},
   "outputs": [
    {
     "data": {
      "text/plain": [
       "0    Garut Sisca Innalillahi Pangandaran Kebumen Bandung Jepang vs Maroko sulli Cilacap Soleh Ya Alla...\n",
       "1    @MrsRachelIn @NasDem @Metro_TV @mohmahfudmd @KPU_ID Kami siap tenggelamkan Partai pendukung Bapa...\n",
       "2                                    @geloraco Contoh jelasnya PJ Gub DKI.. serasa dia Gub hasil pemilu.\n",
       "3                                               @DeeRose782 Begini nih kalau ODGJ diijinkan ikut pemilu🤭\n",
       "4    Se arogan ini kah mereka? Begitu bernafsunya mereka ingin memenangkan pemilu?  Apa yg dilakukan ...\n",
       "Name: tweet, dtype: object"
      ]
     },
     "execution_count": 7,
     "metadata": {},
     "output_type": "execute_result"
    }
   ],
   "source": [
    "pd.set_option('display.max_colwidth',100)\n",
    "txt.head()"
   ]
  },
  {
   "cell_type": "code",
   "execution_count": 8,
   "id": "feb92789",
   "metadata": {},
   "outputs": [
    {
     "data": {
      "text/plain": [
       "\"\\nstopwords = stopwords.words('indonesian')\\nstopwords.clear()\\nstopwords.extend(custom_stop)\\nprint(stopwords[:3])\\n\""
      ]
     },
     "execution_count": 8,
     "metadata": {},
     "output_type": "execute_result"
    }
   ],
   "source": [
    "'''\n",
    "stopwords = stopwords.words('indonesian')\n",
    "stopwords.clear()\n",
    "stopwords.extend(custom_stop)\n",
    "print(stopwords[:3])\n",
    "'''"
   ]
  },
  {
   "cell_type": "code",
   "execution_count": 9,
   "id": "5a0b6fba",
   "metadata": {},
   "outputs": [],
   "source": [
    "def rep_aggregate(x):\n",
    "    word_tokens = word_tokenize(x)\n",
    "    x1 = ''\n",
    "    for i in word_tokens:\n",
    "        if i == 'pemilu':\n",
    "            new = re.sub(r'(\\w)\\1\\1+',r'\\1\\1',i)\n",
    "            x1 = x1 + new + ' '"
   ]
  },
  {
   "cell_type": "code",
   "execution_count": 10,
   "id": "cead3597",
   "metadata": {},
   "outputs": [],
   "source": [
    "\n",
    "def clean_twt(twt):\n",
    "    txt1 = open(\"CleanerText\\clean_stopwords.txt\",\"r\")\n",
    "    stoptxt = txt1.read().split(\"\\n\")\n",
    "    txt2 = open(\"CleanerText\\clean_slangwords2.txt\",\"r\")\n",
    "    cont = txt2.read()\n",
    "    slangtxt = ast.literal_eval(cont)\n",
    "    txt3 = open(\"CleanerText\\clean_slangwords.txt\",\"r\")\n",
    "    cont2 = txt3.read()\n",
    "    slangtxt2 = ast.literal_eval(cont2)\n",
    "    \n",
    "    txt1.close()\n",
    "    txt2.close()\n",
    "    txt3.close()\n",
    "\n",
    "    twt = re.sub(r'[^\\x00-\\x7F]+',' ' ,twt)\n",
    "    twt = re.sub(r'http[s]?\\:\\/\\/.[a-zA-Z0-9\\.\\/\\_?=%\\-\\+!]+',' ' ,twt)\n",
    "    twt = re.sub(r'pic.twitter.com?.[a-zA-Z0-9\\.\\/\\_?=%\\-\\+!]+',' ' ,twt)\n",
    "    twt = re.sub(r'\\@([\\w]+)',' ' ,twt)\n",
    "    twt = re.sub(r'\\#([\\w]+)',' ' ,twt)\n",
    "    twt = re.sub(r'[!$%^&*@#()_+|~=`{}\\[\\]%\\-:\";\\'<>?,.\\/]',' ' ,twt)    \n",
    "    twt = re.sub('[^a-zA-Z]',' ' ,twt)\n",
    "    twt = re.sub(r'([a-zA-Z])\\1\\1','\\\\1' ,twt)\n",
    "    twt = re.sub(r'[0-9]+',' ' ,twt)\n",
    "    twt = re.sub(r'‚Ä¶','' ,twt)\n",
    "    twt = re.sub(r'â','' ,twt)\n",
    "    twt = re.sub(r'€','' ,twt)\n",
    "    twt = re.sub(r'¦','' ,twt)\n",
    "    twt = re.sub(' +',' ' ,twt)\n",
    "    twt = re.sub(r'^[ ]|[ ]$','' ,twt)\n",
    "    twt = twt.lower()\n",
    "\n",
    "    word_tokens = word_tokenize(twt)\n",
    "    for i in word_tokens:\n",
    "        if i in slangtxt.keys():\n",
    "            word_tokens[word_tokens.index(i)] = slangtxt[i]\n",
    "    for i in word_tokens:\n",
    "        if i in slangtxt2.keys():\n",
    "            word_tokens[word_tokens.index(i)] = slangtxt2[i]\n",
    "    \n",
    "    filt_twt = [i for i in word_tokens if not i in stoptxt]\n",
    "    filt_twt = []\n",
    "\n",
    "    for i in word_tokens:\n",
    "        if i not in stoptxt and i not in string.punctuation:\n",
    "            filt_twt.append(i.lower())\n",
    "    return ' '.join(filt_twt)"
   ]
  },
  {
   "cell_type": "code",
   "execution_count": 11,
   "id": "b44b3505",
   "metadata": {},
   "outputs": [],
   "source": [
    "clean_txt = txt.apply(lambda x: clean_twt(x))"
   ]
  },
  {
   "cell_type": "code",
   "execution_count": 12,
   "id": "d078df3a",
   "metadata": {},
   "outputs": [
    {
     "data": {
      "text/plain": [
       "0    garut sisca innalillahi pangandaran kebumen bandung jepang vs maroko sulli cilacap soleh allah b...\n",
       "1                                  tenggelamkan partai pendukung politik identitas tunggu pemilihan umum\n",
       "2                                             contoh jelasnya pj gub dki serasa gub hasil pemilihan umum\n",
       "3                                                                          odgj diijinkan pemilihan umum\n",
       "4    arogan bernafsunya memenangkan pemilihan umum aliansi milenial benar tidak kampanye salahnya wil...\n",
       "Name: tweet, dtype: object"
      ]
     },
     "execution_count": 12,
     "metadata": {},
     "output_type": "execute_result"
    }
   ],
   "source": [
    "pd.set_option('display.max_colwidth',100)\n",
    "clean_txt.head()"
   ]
  },
  {
   "cell_type": "code",
   "execution_count": 13,
   "id": "ea3c52c2",
   "metadata": {},
   "outputs": [],
   "source": [
    "#keyword source atau place/country\n",
    "def del_twt(twt):\n",
    "    key_useless = open(\"CleanerText\\clean_key_useless.txt\",\"r\")\n",
    "    keywords = key_useless.read().split()\n",
    "    key_useless.close()\n",
    "    i = len(keywords)\n",
    "    word_tokens = word_tokenize(twt)\n",
    "    twt2 = ''\n",
    "    for x in word_tokens:\n",
    "        if x not in keywords:\n",
    "            twt2 = twt2+x+' '\n",
    "    return twt2"
   ]
  },
  {
   "cell_type": "code",
   "execution_count": 14,
   "id": "0653eeed",
   "metadata": {},
   "outputs": [
    {
     "data": {
      "text/plain": [
       "0    garut sisca innalillahi pangandaran kebumen bandung jepang vs maroko sulli cilacap soleh allah b...\n",
       "1                                                tenggelamkan partai pendukung politik identitas tunggu \n",
       "2                                                           contoh jelasnya pj gub dki serasa gub hasil \n",
       "3                                                                                        odgj diijinkan \n",
       "4    arogan bernafsunya memenangkan aliansi milenial benar kampanye salahnya wilayah aceh bertindak a...\n",
       "Name: tweet, dtype: object"
      ]
     },
     "execution_count": 14,
     "metadata": {},
     "output_type": "execute_result"
    }
   ],
   "source": [
    "clear_txt = clean_txt.apply(lambda x: del_twt(x))\n",
    "pd.set_option('display.max_colwidth',100)\n",
    "clear_txt.head()"
   ]
  },
  {
   "cell_type": "code",
   "execution_count": 15,
   "id": "92b5424b",
   "metadata": {},
   "outputs": [],
   "source": [
    "def count_words(x):\n",
    "    words = word_tokenize(x)\n",
    "    n=len(words)\n",
    "    return n"
   ]
  },
  {
   "cell_type": "code",
   "execution_count": 16,
   "id": "d3f58ba3",
   "metadata": {},
   "outputs": [
    {
     "data": {
      "text/html": [
       "<div>\n",
       "<style scoped>\n",
       "    .dataframe tbody tr th:only-of-type {\n",
       "        vertical-align: middle;\n",
       "    }\n",
       "\n",
       "    .dataframe tbody tr th {\n",
       "        vertical-align: top;\n",
       "    }\n",
       "\n",
       "    .dataframe thead th {\n",
       "        text-align: right;\n",
       "    }\n",
       "</style>\n",
       "<table border=\"1\" class=\"dataframe\">\n",
       "  <thead>\n",
       "    <tr style=\"text-align: right;\">\n",
       "      <th></th>\n",
       "      <th>username</th>\n",
       "      <th>date</th>\n",
       "      <th>tweet</th>\n",
       "      <th>link</th>\n",
       "    </tr>\n",
       "  </thead>\n",
       "  <tbody>\n",
       "    <tr>\n",
       "      <th>0</th>\n",
       "      <td>jakulunlappung</td>\n",
       "      <td>2022-12-03</td>\n",
       "      <td>Garut Sisca Innalillahi Pangandaran Kebumen Bandung Jepang vs Maroko sulli Cilacap Soleh Ya Alla...</td>\n",
       "      <td>https://twitter.com/jakulunlappung/status/1598988753141366785</td>\n",
       "    </tr>\n",
       "  </tbody>\n",
       "</table>\n",
       "</div>"
      ],
      "text/plain": [
       "         username        date  \\\n",
       "0  jakulunlappung  2022-12-03   \n",
       "\n",
       "                                                                                                 tweet  \\\n",
       "0  Garut Sisca Innalillahi Pangandaran Kebumen Bandung Jepang vs Maroko sulli Cilacap Soleh Ya Alla...   \n",
       "\n",
       "                                                            link  \n",
       "0  https://twitter.com/jakulunlappung/status/1598988753141366785  "
      ]
     },
     "execution_count": 16,
     "metadata": {},
     "output_type": "execute_result"
    }
   ],
   "source": [
    "dt = df.copy()\n",
    "dt.head(1)"
   ]
  },
  {
   "cell_type": "code",
   "execution_count": 17,
   "id": "17eee41e",
   "metadata": {},
   "outputs": [
    {
     "data": {
      "text/plain": [
       "0      6\n",
       "1     19\n",
       "2     39\n",
       "3     49\n",
       "4     67\n",
       "5     68\n",
       "6     92\n",
       "7     56\n",
       "8     59\n",
       "9     61\n",
       "10    65\n",
       "11    46\n",
       "12    38\n",
       "13    26\n",
       "14    30\n",
       "15    27\n",
       "16    38\n",
       "17    23\n",
       "18    24\n",
       "19    24\n",
       "20    18\n",
       "21    23\n",
       "22    23\n",
       "23    30\n",
       "24    14\n",
       "25     8\n",
       "26    10\n",
       "27     8\n",
       "28     5\n",
       "29     3\n",
       "30     4\n",
       "31     2\n",
       "32     1\n",
       "33     1\n",
       "Name: wordlen, dtype: int64"
      ]
     },
     "execution_count": 17,
     "metadata": {},
     "output_type": "execute_result"
    }
   ],
   "source": [
    "dt['tweet'] = clear_txt\n",
    "dt['wordlen'] = dt['tweet'].apply(lambda x: count_words(x))\n",
    "dt['wordlen'].value_counts().sort_index()"
   ]
  },
  {
   "cell_type": "code",
   "execution_count": 18,
   "id": "bdd7fa39",
   "metadata": {},
   "outputs": [
    {
     "data": {
      "text/plain": [
       "username                                                                                         jakulunlappung\n",
       "date                                                                                                 2022-12-03\n",
       "tweet       garut sisca innalillahi pangandaran kebumen bandung jepang vs maroko sulli cilacap soleh allah b...\n",
       "link                                              https://twitter.com/jakulunlappung/status/1598988753141366785\n",
       "wordlen                                                                                                      17\n",
       "Name: 0, dtype: object"
      ]
     },
     "execution_count": 18,
     "metadata": {},
     "output_type": "execute_result"
    }
   ],
   "source": [
    "dt.loc[0]"
   ]
  },
  {
   "cell_type": "code",
   "execution_count": 19,
   "id": "51319caf",
   "metadata": {},
   "outputs": [],
   "source": [
    "dt = dt.drop(dt[dt['wordlen'] == 0].index, axis=0)\n",
    "dt['tweet'].drop_duplicates(inplace=True)\n",
    "dt.drop(labels=0, axis=0,inplace=True)\n",
    "dt = dt.reset_index(drop=True)"
   ]
  },
  {
   "cell_type": "code",
   "execution_count": 20,
   "id": "3be4eb4b",
   "metadata": {},
   "outputs": [
    {
     "data": {
      "text/plain": [
       "1000"
      ]
     },
     "execution_count": 20,
     "metadata": {},
     "output_type": "execute_result"
    }
   ],
   "source": [
    "len(dt)"
   ]
  },
  {
   "cell_type": "code",
   "execution_count": null,
   "id": "dc6dd026",
   "metadata": {},
   "outputs": [],
   "source": []
  },
  {
   "cell_type": "code",
   "execution_count": 21,
   "id": "c4709652",
   "metadata": {},
   "outputs": [],
   "source": [
    "word_dict = {}\n",
    "for i in range(0, len(dt['tweet'])):\n",
    "    kalimat = dt['tweet'][i]\n",
    "    word_tokens = word_tokenize(kalimat)\n",
    "    for j in word_tokens:\n",
    "        if j not in word_dict:\n",
    "            word_dict[j] = 1\n",
    "        else:\n",
    "            word_dict[j] += 1"
   ]
  },
  {
   "cell_type": "code",
   "execution_count": 22,
   "id": "2e28593b",
   "metadata": {},
   "outputs": [
    {
     "data": {
      "text/plain": [
       "3689"
      ]
     },
     "execution_count": 22,
     "metadata": {},
     "output_type": "execute_result"
    }
   ],
   "source": [
    "len(word_dict)"
   ]
  },
  {
   "cell_type": "code",
   "execution_count": 23,
   "id": "77f20ac1",
   "metadata": {},
   "outputs": [
    {
     "data": {
      "text/plain": [
       "3099"
      ]
     },
     "execution_count": 23,
     "metadata": {},
     "output_type": "execute_result"
    }
   ],
   "source": [
    "len({k:v for (k,v) in word_dict.items() if v < 4})"
   ]
  },
  {
   "cell_type": "code",
   "execution_count": null,
   "id": "7bae329f",
   "metadata": {},
   "outputs": [],
   "source": []
  },
  {
   "cell_type": "code",
   "execution_count": 24,
   "id": "4ac2f2b3",
   "metadata": {},
   "outputs": [
    {
     "data": {
      "text/html": [
       "<div>\n",
       "<style scoped>\n",
       "    .dataframe tbody tr th:only-of-type {\n",
       "        vertical-align: middle;\n",
       "    }\n",
       "\n",
       "    .dataframe tbody tr th {\n",
       "        vertical-align: top;\n",
       "    }\n",
       "\n",
       "    .dataframe thead th {\n",
       "        text-align: right;\n",
       "    }\n",
       "</style>\n",
       "<table border=\"1\" class=\"dataframe\">\n",
       "  <thead>\n",
       "    <tr style=\"text-align: right;\">\n",
       "      <th></th>\n",
       "      <th>word</th>\n",
       "      <th>weight</th>\n",
       "      <th>number_of_words</th>\n",
       "    </tr>\n",
       "  </thead>\n",
       "  <tbody>\n",
       "    <tr>\n",
       "      <th>0</th>\n",
       "      <td>hai</td>\n",
       "      <td>3</td>\n",
       "      <td>1</td>\n",
       "    </tr>\n",
       "    <tr>\n",
       "      <th>1</th>\n",
       "      <td>merekam</td>\n",
       "      <td>2</td>\n",
       "      <td>1</td>\n",
       "    </tr>\n",
       "    <tr>\n",
       "      <th>2</th>\n",
       "      <td>ekstensif</td>\n",
       "      <td>3</td>\n",
       "      <td>1</td>\n",
       "    </tr>\n",
       "    <tr>\n",
       "      <th>3</th>\n",
       "      <td>paripurna</td>\n",
       "      <td>1</td>\n",
       "      <td>1</td>\n",
       "    </tr>\n",
       "    <tr>\n",
       "      <th>4</th>\n",
       "      <td>detail</td>\n",
       "      <td>2</td>\n",
       "      <td>1</td>\n",
       "    </tr>\n",
       "  </tbody>\n",
       "</table>\n",
       "</div>"
      ],
      "text/plain": [
       "        word  weight  number_of_words\n",
       "0        hai       3                1\n",
       "1    merekam       2                1\n",
       "2  ekstensif       3                1\n",
       "3  paripurna       1                1\n",
       "4     detail       2                1"
      ]
     },
     "execution_count": 24,
     "metadata": {},
     "output_type": "execute_result"
    }
   ],
   "source": [
    "lexi = pd.read_csv('CleanerText/full_lexicon.csv')\n",
    "lexi.head()"
   ]
  },
  {
   "cell_type": "code",
   "execution_count": 25,
   "id": "7ae0c7e4",
   "metadata": {},
   "outputs": [
    {
     "data": {
      "text/html": [
       "<div>\n",
       "<style scoped>\n",
       "    .dataframe tbody tr th:only-of-type {\n",
       "        vertical-align: middle;\n",
       "    }\n",
       "\n",
       "    .dataframe tbody tr th {\n",
       "        vertical-align: top;\n",
       "    }\n",
       "\n",
       "    .dataframe thead th {\n",
       "        text-align: right;\n",
       "    }\n",
       "</style>\n",
       "<table border=\"1\" class=\"dataframe\">\n",
       "  <thead>\n",
       "    <tr style=\"text-align: right;\">\n",
       "      <th></th>\n",
       "      <th>word</th>\n",
       "      <th>weight</th>\n",
       "      <th>number_of_words</th>\n",
       "    </tr>\n",
       "  </thead>\n",
       "  <tbody>\n",
       "    <tr>\n",
       "      <th>1766</th>\n",
       "      <td>gila</td>\n",
       "      <td>3</td>\n",
       "      <td>1</td>\n",
       "    </tr>\n",
       "    <tr>\n",
       "      <th>3791</th>\n",
       "      <td>gila</td>\n",
       "      <td>-4</td>\n",
       "      <td>1</td>\n",
       "    </tr>\n",
       "    <tr>\n",
       "      <th>4826</th>\n",
       "      <td>gila</td>\n",
       "      <td>-5</td>\n",
       "      <td>1</td>\n",
       "    </tr>\n",
       "    <tr>\n",
       "      <th>10243</th>\n",
       "      <td>gila</td>\n",
       "      <td>-5</td>\n",
       "      <td>1</td>\n",
       "    </tr>\n",
       "  </tbody>\n",
       "</table>\n",
       "</div>"
      ],
      "text/plain": [
       "       word  weight  number_of_words\n",
       "1766   gila       3                1\n",
       "3791   gila      -4                1\n",
       "4826   gila      -5                1\n",
       "10243  gila      -5                1"
      ]
     },
     "execution_count": 25,
     "metadata": {},
     "output_type": "execute_result"
    }
   ],
   "source": [
    "lexi[lexi['word']=='gila']"
   ]
  },
  {
   "cell_type": "code",
   "execution_count": 26,
   "id": "f1a208f9",
   "metadata": {},
   "outputs": [
    {
     "data": {
      "text/plain": [
       "10286"
      ]
     },
     "execution_count": 26,
     "metadata": {},
     "output_type": "execute_result"
    }
   ],
   "source": [
    "len(lexi)"
   ]
  },
  {
   "cell_type": "code",
   "execution_count": 27,
   "id": "ada9b7bf",
   "metadata": {},
   "outputs": [],
   "source": [
    "lexi_w = lexi['word'].to_list()\n",
    "lexi_wcount = lexi['number_of_words']"
   ]
  },
  {
   "cell_type": "code",
   "execution_count": 28,
   "id": "66325494",
   "metadata": {},
   "outputs": [],
   "source": [
    "stem_word = []\n",
    "stemmer = StemmerFactory().create_stemmer()\n",
    "for w in word_dict.keys():\n",
    "    if w not in lexi_w:\n",
    "         base_w = stemmer.stem(w)\n",
    "         if base_w not in lexi_w:\n",
    "            stem_word.append(w)"
   ]
  },
  {
   "cell_type": "code",
   "execution_count": 29,
   "id": "bc5e965e",
   "metadata": {},
   "outputs": [
    {
     "data": {
      "text/plain": [
       "2167"
      ]
     },
     "execution_count": 29,
     "metadata": {},
     "output_type": "execute_result"
    }
   ],
   "source": [
    "len(stem_word)"
   ]
  },
  {
   "cell_type": "code",
   "execution_count": 30,
   "id": "71563347",
   "metadata": {},
   "outputs": [
    {
     "data": {
      "text/plain": [
       "289"
      ]
     },
     "execution_count": 30,
     "metadata": {},
     "output_type": "execute_result"
    }
   ],
   "source": [
    "len({k:v for (k,v) in word_dict.items() if ((k in stem_word)&(v>3)) })"
   ]
  },
  {
   "cell_type": "code",
   "execution_count": 31,
   "id": "5f46f66e",
   "metadata": {},
   "outputs": [],
   "source": [
    "stem_word_list = {k:v for (k,v) in word_dict.items() if ((k in stem_word)&(v>3)) }"
   ]
  },
  {
   "cell_type": "code",
   "execution_count": 32,
   "id": "7021b3a7",
   "metadata": {},
   "outputs": [
    {
     "name": "stdout",
     "output_type": "stream",
     "text": [
      "kpu 160\n",
      "rakyat 96\n",
      "jokowi 93\n",
      "partai 91\n",
      "calon 66\n",
      "ppk 64\n",
      "bawaslu 63\n",
      "amp 56\n",
      "prabowo 55\n",
      "anies 51\n",
      "kabupaten 51\n",
      "indonesia 49\n",
      "kesiapan 46\n",
      "maskot 46\n",
      "demokrasi 43\n",
      "tahapan 42\n",
      "administrasi 42\n",
      "seleksi 41\n",
      "daerah 36\n",
      "nasional 34\n"
     ]
    }
   ],
   "source": [
    "sort_orders = sorted(stem_word_list.items(), key=lambda x: x[1], reverse=True)\n",
    "sort_orders=sort_orders[0:20]\n",
    "for i in sort_orders:\n",
    "    print(i[0], i[1])"
   ]
  },
  {
   "cell_type": "code",
   "execution_count": null,
   "id": "ead6b6a9",
   "metadata": {},
   "outputs": [],
   "source": []
  },
  {
   "cell_type": "code",
   "execution_count": 33,
   "id": "40d8c61f",
   "metadata": {},
   "outputs": [
    {
     "data": {
      "image/png": "[encoded data removed]",
      "text/plain": [
       "<Figure size 792x792 with 1 Axes>"
      ]
     },
     "metadata": {
      "needs_background": "light"
     },
     "output_type": "display_data"
    }
   ],
   "source": [
    "stpwords = set(STOPWORDS)\n",
    "wrdcloud = WordCloud(\n",
    "    stopwords=stpwords,\n",
    "    max_words=100,\n",
    "    max_font_size=36,\n",
    "    scale=5,\n",
    "    random_state=100,\n",
    "    colormap='RdBu'\n",
    ").generate(str(dt['tweet']))\n",
    "fig = plt.subplots(1,figsize=(11,11), facecolor= None)\n",
    "plt.axis('off')\n",
    "plt.imshow(wrdcloud)\n",
    "plt.show()"
   ]
  },
  {
   "cell_type": "code",
   "execution_count": 34,
   "id": "2fd0031e",
   "metadata": {},
   "outputs": [
    {
     "name": "stdout",
     "output_type": "stream",
     "text": [
      "['odgj diijinkan ']\n"
     ]
    }
   ],
   "source": [
    "unslang = []\n",
    "for i in range(0, len(clear_txt)):\n",
    "    if 'odgj' in clear_txt[i]:\n",
    "        unslang.append(clear_txt[i])\n",
    "print(unslang)"
   ]
  },
  {
   "cell_type": "code",
   "execution_count": 37,
   "id": "8be2a0e4",
   "metadata": {},
   "outputs": [],
   "source": [
    "sencol =[]\n",
    "negasi = ['bukan','tidak','ga','gk']\n",
    "senrow =np.array([])\n",
    "nsen = 0\n",
    "factory = StemmerFactory()\n",
    "stemmer = factory.create_stemmer()\n",
    "sentiment_list = []\n",
    "# function to write the word's sentiment if it is founded\n",
    "def found_word(ind,words,word,sen,sencol,sentiment,add):\n",
    "    # if it is already included in the bag of words matrix, then just increase the value\n",
    "    if word in sencol:\n",
    "        sen[sencol.index(word)] += 1\n",
    "    else:\n",
    "    #if not, than add new word\n",
    "        sencol.append(word)\n",
    "        sen.append(1)\n",
    "        add += 1\n",
    "    #if there is a negation word before it, the sentiment would be the negation of it's sentiment\n",
    "    if (words[ind-1] in negasi):\n",
    "        sentiment += -lexi['weight'][lexi_w.index(word)]\n",
    "    else:\n",
    "        sentiment += lexi['weight'][lexi_w.index(word)]\n",
    "    \n",
    "    return sen,sencol,sentiment,add\n",
    "            \n",
    "# checking every words, if they are appear in the lexicon, and then calculate their sentiment if they do\n",
    "for i in range(len(dt)):\n",
    "    nsen = senrow.shape[0]\n",
    "    words = word_tokenize(dt['tweet'][i])\n",
    "    sentiment = 0 \n",
    "    add = 0\n",
    "    prev = [0 for ii in range(len(words))]\n",
    "    n_words = len(words)\n",
    "    if len(sencol)>0:\n",
    "        sen =[0 for j in range(len(sencol))]\n",
    "    else:\n",
    "        sen =[]\n",
    "    \n",
    "    for word in words:\n",
    "        ind = words.index(word)\n",
    "        # check whether they are included in the lexicon\n",
    "        if word in lexi_w :\n",
    "            sen,sencol,sentiment,add= found_word(ind,words,word,sen,sencol,sentiment,add)\n",
    "        else:\n",
    "        # if not, then check the root word\n",
    "            kata_dasar = stemmer.stem(word)\n",
    "            if kata_dasar in lexi_w:\n",
    "                sen,sencol,sentiment,add= found_word(ind,words,kata_dasar,sen,sencol,sentiment,add)\n",
    "        # if still negative, try to match the combination of words with the adjacent words\n",
    "            elif(n_words>1):\n",
    "                if ind-1>-1:\n",
    "                    back_1    = words[ind-1]+' '+word\n",
    "                    if (back_1 in lexi_w):\n",
    "                        sen,sencol,sentiment,add= found_word(ind,words,back_1,sen,sencol,sentiment,add)\n",
    "                    elif(ind-2>-1):\n",
    "                        back_2    = words[ind-2]+' '+back_1\n",
    "                        if back_2 in lexi_w:\n",
    "                            sen,sencol,sentiment,add= found_word(ind,words,back_2,sen,sencol,sentiment,add)\n",
    "    # if there is new word founded, then expand the matrix\n",
    "    if add>0:  \n",
    "        if i>0:\n",
    "            if (nsen==0):\n",
    "                senrow = np.zeros([i,add],dtype=int)\n",
    "            elif(i!=nsen):\n",
    "                padding_h = np.zeros([nsen,add],dtype=int)\n",
    "                senrow = np.hstack((senrow,padding_h))\n",
    "                padding_v = np.zeros([(i-nsen),senrow.shape[1]],dtype=int)\n",
    "                senrow = np.vstack((senrow,padding_v))\n",
    "            else:\n",
    "                padding =np.zeros([nsen,add],dtype=int)\n",
    "                senrow = np.hstack((senrow,padding))\n",
    "            senrow = np.vstack((senrow,sen))\n",
    "        if i==0:\n",
    "            senrow = np.array(sen).reshape(1,len(sen))\n",
    "    # if there isn't then just update the old matrix\n",
    "    elif(nsen>0):\n",
    "        senrow = np.vstack((senrow,sen))\n",
    "        \n",
    "    sentiment_list.append(sentiment)"
   ]
  },
  {
   "cell_type": "code",
   "execution_count": 39,
   "id": "a4ab24a0",
   "metadata": {},
   "outputs": [
    {
     "data": {
      "text/plain": [
       "1000"
      ]
     },
     "execution_count": 39,
     "metadata": {},
     "output_type": "execute_result"
    }
   ],
   "source": [
    "len(sentiment_list)"
   ]
  },
  {
   "cell_type": "code",
   "execution_count": 45,
   "id": "c448f5d2",
   "metadata": {},
   "outputs": [
    {
     "data": {
      "text/plain": [
       "array([[ 1,  1,  1, ...,  0,  0,  4],\n",
       "       [ 0,  0,  0, ...,  0,  0,  4],\n",
       "       [ 0,  0,  0, ...,  0,  0,  0],\n",
       "       ...,\n",
       "       [ 0,  0,  0, ...,  0,  0, 13],\n",
       "       [ 0,  0,  0, ...,  1,  0, 17],\n",
       "       [ 0,  0,  0, ...,  0,  1, -2]], dtype=int64)"
      ]
     },
     "execution_count": 45,
     "metadata": {},
     "output_type": "execute_result"
    }
   ],
   "source": [
    "np.hstack((senrow,sentiment_array))"
   ]
  },
  {
   "cell_type": "code",
   "execution_count": 44,
   "id": "21a9521c",
   "metadata": {},
   "outputs": [],
   "source": [
    "sencol.append('sentiment')\n",
    "sentiment_array = np.array(sentiment_list).reshape(senrow.shape[0],1)\n",
    "sentiment_data = np.hstack((senrow,sentiment_array))\n",
    "dt_sentimen = pd.DataFrame(sentiment_data,columns = sencol)"
   ]
  },
  {
   "cell_type": "code",
   "execution_count": 46,
   "id": "82acb209",
   "metadata": {},
   "outputs": [
    {
     "data": {
      "text/html": [
       "<div>\n",
       "<style scoped>\n",
       "    .dataframe tbody tr th:only-of-type {\n",
       "        vertical-align: middle;\n",
       "    }\n",
       "\n",
       "    .dataframe tbody tr th {\n",
       "        vertical-align: top;\n",
       "    }\n",
       "\n",
       "    .dataframe thead th {\n",
       "        text-align: right;\n",
       "    }\n",
       "</style>\n",
       "<table border=\"1\" class=\"dataframe\">\n",
       "  <thead>\n",
       "    <tr style=\"text-align: right;\">\n",
       "      <th></th>\n",
       "      <th>pendukung</th>\n",
       "      <th>politik</th>\n",
       "      <th>tunggu</th>\n",
       "      <th>jelas</th>\n",
       "      <th>hasil</th>\n",
       "      <th>menang</th>\n",
       "      <th>aliansi</th>\n",
       "      <th>benar</th>\n",
       "      <th>kampanye</th>\n",
       "      <th>salah</th>\n",
       "      <th>...</th>\n",
       "      <th>bertepatan</th>\n",
       "      <th>love</th>\n",
       "      <th>presiden</th>\n",
       "      <th>semau</th>\n",
       "      <th>pelantikan</th>\n",
       "      <th>unjuk</th>\n",
       "      <th>bernama</th>\n",
       "      <th>anak cucu</th>\n",
       "      <th>menurunkan</th>\n",
       "      <th>sentiment</th>\n",
       "    </tr>\n",
       "  </thead>\n",
       "  <tbody>\n",
       "    <tr>\n",
       "      <th>0</th>\n",
       "      <td>1</td>\n",
       "      <td>1</td>\n",
       "      <td>1</td>\n",
       "      <td>0</td>\n",
       "      <td>0</td>\n",
       "      <td>0</td>\n",
       "      <td>0</td>\n",
       "      <td>0</td>\n",
       "      <td>0</td>\n",
       "      <td>0</td>\n",
       "      <td>...</td>\n",
       "      <td>0</td>\n",
       "      <td>0</td>\n",
       "      <td>0</td>\n",
       "      <td>0</td>\n",
       "      <td>0</td>\n",
       "      <td>0</td>\n",
       "      <td>0</td>\n",
       "      <td>0</td>\n",
       "      <td>0</td>\n",
       "      <td>4</td>\n",
       "    </tr>\n",
       "    <tr>\n",
       "      <th>1</th>\n",
       "      <td>0</td>\n",
       "      <td>0</td>\n",
       "      <td>0</td>\n",
       "      <td>1</td>\n",
       "      <td>1</td>\n",
       "      <td>0</td>\n",
       "      <td>0</td>\n",
       "      <td>0</td>\n",
       "      <td>0</td>\n",
       "      <td>0</td>\n",
       "      <td>...</td>\n",
       "      <td>0</td>\n",
       "      <td>0</td>\n",
       "      <td>0</td>\n",
       "      <td>0</td>\n",
       "      <td>0</td>\n",
       "      <td>0</td>\n",
       "      <td>0</td>\n",
       "      <td>0</td>\n",
       "      <td>0</td>\n",
       "      <td>4</td>\n",
       "    </tr>\n",
       "    <tr>\n",
       "      <th>2</th>\n",
       "      <td>0</td>\n",
       "      <td>0</td>\n",
       "      <td>0</td>\n",
       "      <td>0</td>\n",
       "      <td>0</td>\n",
       "      <td>0</td>\n",
       "      <td>0</td>\n",
       "      <td>0</td>\n",
       "      <td>0</td>\n",
       "      <td>0</td>\n",
       "      <td>...</td>\n",
       "      <td>0</td>\n",
       "      <td>0</td>\n",
       "      <td>0</td>\n",
       "      <td>0</td>\n",
       "      <td>0</td>\n",
       "      <td>0</td>\n",
       "      <td>0</td>\n",
       "      <td>0</td>\n",
       "      <td>0</td>\n",
       "      <td>0</td>\n",
       "    </tr>\n",
       "    <tr>\n",
       "      <th>3</th>\n",
       "      <td>0</td>\n",
       "      <td>0</td>\n",
       "      <td>0</td>\n",
       "      <td>0</td>\n",
       "      <td>0</td>\n",
       "      <td>1</td>\n",
       "      <td>1</td>\n",
       "      <td>1</td>\n",
       "      <td>1</td>\n",
       "      <td>1</td>\n",
       "      <td>...</td>\n",
       "      <td>0</td>\n",
       "      <td>0</td>\n",
       "      <td>0</td>\n",
       "      <td>0</td>\n",
       "      <td>0</td>\n",
       "      <td>0</td>\n",
       "      <td>0</td>\n",
       "      <td>0</td>\n",
       "      <td>0</td>\n",
       "      <td>2</td>\n",
       "    </tr>\n",
       "    <tr>\n",
       "      <th>4</th>\n",
       "      <td>0</td>\n",
       "      <td>0</td>\n",
       "      <td>0</td>\n",
       "      <td>0</td>\n",
       "      <td>0</td>\n",
       "      <td>0</td>\n",
       "      <td>0</td>\n",
       "      <td>0</td>\n",
       "      <td>0</td>\n",
       "      <td>0</td>\n",
       "      <td>...</td>\n",
       "      <td>0</td>\n",
       "      <td>0</td>\n",
       "      <td>0</td>\n",
       "      <td>0</td>\n",
       "      <td>0</td>\n",
       "      <td>0</td>\n",
       "      <td>0</td>\n",
       "      <td>0</td>\n",
       "      <td>0</td>\n",
       "      <td>4</td>\n",
       "    </tr>\n",
       "  </tbody>\n",
       "</table>\n",
       "<p>5 rows × 1174 columns</p>\n",
       "</div>"
      ],
      "text/plain": [
       "   pendukung  politik  tunggu  jelas  hasil  menang  aliansi  benar  kampanye  \\\n",
       "0          1        1       1      0      0       0        0      0         0   \n",
       "1          0        0       0      1      1       0        0      0         0   \n",
       "2          0        0       0      0      0       0        0      0         0   \n",
       "3          0        0       0      0      0       1        1      1         1   \n",
       "4          0        0       0      0      0       0        0      0         0   \n",
       "\n",
       "   salah  ...  bertepatan  love  presiden  semau  pelantikan  unjuk  bernama  \\\n",
       "0      0  ...           0     0         0      0           0      0        0   \n",
       "1      0  ...           0     0         0      0           0      0        0   \n",
       "2      0  ...           0     0         0      0           0      0        0   \n",
       "3      1  ...           0     0         0      0           0      0        0   \n",
       "4      0  ...           0     0         0      0           0      0        0   \n",
       "\n",
       "   anak cucu  menurunkan  sentiment  \n",
       "0          0           0          4  \n",
       "1          0           0          4  \n",
       "2          0           0          0  \n",
       "3          0           0          2  \n",
       "4          0           0          4  \n",
       "\n",
       "[5 rows x 1174 columns]"
      ]
     },
     "execution_count": 46,
     "metadata": {},
     "output_type": "execute_result"
    }
   ],
   "source": [
    "dt_sentimen.head()"
   ]
  },
  {
   "cell_type": "code",
   "execution_count": 49,
   "id": "1b422301",
   "metadata": {},
   "outputs": [
    {
     "data": {
      "text/plain": [
       "1000"
      ]
     },
     "execution_count": 49,
     "metadata": {},
     "output_type": "execute_result"
    }
   ],
   "source": [
    "len(dt)"
   ]
  },
  {
   "cell_type": "code",
   "execution_count": 53,
   "id": "b96a7f50",
   "metadata": {},
   "outputs": [],
   "source": [
    "df_poin = pd.DataFrame(dt[['username', 'tweet']])"
   ]
  },
  {
   "cell_type": "code",
   "execution_count": 54,
   "id": "3e8465e8",
   "metadata": {},
   "outputs": [],
   "source": [
    "df_poin['sentiment'] = dt_sentimen['sentiment']"
   ]
  },
  {
   "cell_type": "code",
   "execution_count": 65,
   "id": "5a63fcb2",
   "metadata": {},
   "outputs": [
    {
     "data": {
      "text/html": [
       "<div>\n",
       "<style scoped>\n",
       "    .dataframe tbody tr th:only-of-type {\n",
       "        vertical-align: middle;\n",
       "    }\n",
       "\n",
       "    .dataframe tbody tr th {\n",
       "        vertical-align: top;\n",
       "    }\n",
       "\n",
       "    .dataframe thead th {\n",
       "        text-align: right;\n",
       "    }\n",
       "</style>\n",
       "<table border=\"1\" class=\"dataframe\">\n",
       "  <thead>\n",
       "    <tr style=\"text-align: right;\">\n",
       "      <th></th>\n",
       "      <th>username</th>\n",
       "      <th>tweet</th>\n",
       "      <th>sentiment</th>\n",
       "    </tr>\n",
       "  </thead>\n",
       "  <tbody>\n",
       "    <tr>\n",
       "      <th>0</th>\n",
       "      <td>pkartawidjaja</td>\n",
       "      <td>tenggelamkan partai pendukung politik identitas tunggu</td>\n",
       "      <td>4</td>\n",
       "    </tr>\n",
       "    <tr>\n",
       "      <th>1</th>\n",
       "      <td>sanyalkadrie</td>\n",
       "      <td>contoh jelasnya pj gub dki serasa gub hasil</td>\n",
       "      <td>4</td>\n",
       "    </tr>\n",
       "    <tr>\n",
       "      <th>2</th>\n",
       "      <td>_4iii_na_t3h5h</td>\n",
       "      <td>odgj diijinkan</td>\n",
       "      <td>0</td>\n",
       "    </tr>\n",
       "    <tr>\n",
       "      <th>3</th>\n",
       "      <td>tommyesa78</td>\n",
       "      <td>arogan bernafsunya memenangkan aliansi milenial benar kampanye salahnya wilayah aceh bertindak a...</td>\n",
       "      <td>2</td>\n",
       "    </tr>\n",
       "    <tr>\n",
       "      <th>4</th>\n",
       "      <td>bfitrikananda</td>\n",
       "      <td>maksudnya berkuasa klaim pemenang petugas partainya mayoritas patlemen berkuasa ino banteng ompong</td>\n",
       "      <td>4</td>\n",
       "    </tr>\n",
       "  </tbody>\n",
       "</table>\n",
       "</div>"
      ],
      "text/plain": [
       "         username  \\\n",
       "0   pkartawidjaja   \n",
       "1    sanyalkadrie   \n",
       "2  _4iii_na_t3h5h   \n",
       "3      tommyesa78   \n",
       "4   bfitrikananda   \n",
       "\n",
       "                                                                                                 tweet  \\\n",
       "0                                              tenggelamkan partai pendukung politik identitas tunggu    \n",
       "1                                                         contoh jelasnya pj gub dki serasa gub hasil    \n",
       "2                                                                                      odgj diijinkan    \n",
       "3  arogan bernafsunya memenangkan aliansi milenial benar kampanye salahnya wilayah aceh bertindak a...   \n",
       "4  maksudnya berkuasa klaim pemenang petugas partainya mayoritas patlemen berkuasa ino banteng ompong    \n",
       "\n",
       "   sentiment  \n",
       "0          4  \n",
       "1          4  \n",
       "2          0  \n",
       "3          2  \n",
       "4          4  "
      ]
     },
     "execution_count": 65,
     "metadata": {},
     "output_type": "execute_result"
    }
   ],
   "source": [
    "df_poin.head()"
   ]
  },
  {
   "cell_type": "code",
   "execution_count": 66,
   "id": "3eab7a93",
   "metadata": {},
   "outputs": [
    {
     "data": {
      "text/html": [
       "<div>\n",
       "<style scoped>\n",
       "    .dataframe tbody tr th:only-of-type {\n",
       "        vertical-align: middle;\n",
       "    }\n",
       "\n",
       "    .dataframe tbody tr th {\n",
       "        vertical-align: top;\n",
       "    }\n",
       "\n",
       "    .dataframe thead th {\n",
       "        text-align: right;\n",
       "    }\n",
       "</style>\n",
       "<table border=\"1\" class=\"dataframe\">\n",
       "  <thead>\n",
       "    <tr style=\"text-align: right;\">\n",
       "      <th></th>\n",
       "      <th>username</th>\n",
       "      <th>tweet</th>\n",
       "      <th>sentiment</th>\n",
       "    </tr>\n",
       "  </thead>\n",
       "  <tbody>\n",
       "    <tr>\n",
       "      <th>0</th>\n",
       "      <td>pkartawidjaja</td>\n",
       "      <td>tenggelamkan partai pendukung politik identitas tunggu</td>\n",
       "      <td>Positif</td>\n",
       "    </tr>\n",
       "    <tr>\n",
       "      <th>1</th>\n",
       "      <td>sanyalkadrie</td>\n",
       "      <td>contoh jelasnya pj gub dki serasa gub hasil</td>\n",
       "      <td>Positif</td>\n",
       "    </tr>\n",
       "    <tr>\n",
       "      <th>2</th>\n",
       "      <td>_4iii_na_t3h5h</td>\n",
       "      <td>odgj diijinkan</td>\n",
       "      <td>Netral</td>\n",
       "    </tr>\n",
       "    <tr>\n",
       "      <th>3</th>\n",
       "      <td>tommyesa78</td>\n",
       "      <td>arogan bernafsunya memenangkan aliansi milenial benar kampanye salahnya wilayah aceh bertindak a...</td>\n",
       "      <td>Positif</td>\n",
       "    </tr>\n",
       "    <tr>\n",
       "      <th>4</th>\n",
       "      <td>bfitrikananda</td>\n",
       "      <td>maksudnya berkuasa klaim pemenang petugas partainya mayoritas patlemen berkuasa ino banteng ompong</td>\n",
       "      <td>Positif</td>\n",
       "    </tr>\n",
       "  </tbody>\n",
       "</table>\n",
       "</div>"
      ],
      "text/plain": [
       "         username  \\\n",
       "0   pkartawidjaja   \n",
       "1    sanyalkadrie   \n",
       "2  _4iii_na_t3h5h   \n",
       "3      tommyesa78   \n",
       "4   bfitrikananda   \n",
       "\n",
       "                                                                                                 tweet  \\\n",
       "0                                              tenggelamkan partai pendukung politik identitas tunggu    \n",
       "1                                                         contoh jelasnya pj gub dki serasa gub hasil    \n",
       "2                                                                                      odgj diijinkan    \n",
       "3  arogan bernafsunya memenangkan aliansi milenial benar kampanye salahnya wilayah aceh bertindak a...   \n",
       "4  maksudnya berkuasa klaim pemenang petugas partainya mayoritas patlemen berkuasa ino banteng ompong    \n",
       "\n",
       "  sentiment  \n",
       "0   Positif  \n",
       "1   Positif  \n",
       "2    Netral  \n",
       "3   Positif  \n",
       "4   Positif  "
      ]
     },
     "execution_count": 66,
     "metadata": {},
     "output_type": "execute_result"
    }
   ],
   "source": [
    "df_end = df_poin.copy()\n",
    "label = []\n",
    "for i in df_end['sentiment']:\n",
    "    if i > 0:\n",
    "        label.append('Positif')\n",
    "    elif i == 0:\n",
    "        label.append('Netral')\n",
    "    else:\n",
    "        label.append('Negatif')\n",
    "df_end['sentiment'] = label\n",
    "df_end.head()"
   ]
  },
  {
   "cell_type": "code",
   "execution_count": 63,
   "id": "373de41f",
   "metadata": {},
   "outputs": [
    {
     "data": {
      "text/html": [
       "<div>\n",
       "<style scoped>\n",
       "    .dataframe tbody tr th:only-of-type {\n",
       "        vertical-align: middle;\n",
       "    }\n",
       "\n",
       "    .dataframe tbody tr th {\n",
       "        vertical-align: top;\n",
       "    }\n",
       "\n",
       "    .dataframe thead th {\n",
       "        text-align: right;\n",
       "    }\n",
       "</style>\n",
       "<table border=\"1\" class=\"dataframe\">\n",
       "  <thead>\n",
       "    <tr style=\"text-align: right;\">\n",
       "      <th></th>\n",
       "      <th>username</th>\n",
       "      <th>tweet</th>\n",
       "      <th>sentiment</th>\n",
       "    </tr>\n",
       "  </thead>\n",
       "  <tbody>\n",
       "    <tr>\n",
       "      <th>11</th>\n",
       "      <td>deje_vendra</td>\n",
       "      <td>arahan jokowi terkait kesiapan pelaksanaan serentak</td>\n",
       "      <td>-7</td>\n",
       "    </tr>\n",
       "    <tr>\n",
       "      <th>17</th>\n",
       "      <td>bawaslu_krgsm</td>\n",
       "      <td>penyelesaian sengketa peserta salah kewenangan panwaslu kecamatan selengkapnya</td>\n",
       "      <td>-4</td>\n",
       "    </tr>\n",
       "    <tr>\n",
       "      <th>20</th>\n",
       "      <td>cengkonek2</td>\n",
       "      <td>memang warga kalbar dayak sepaham claim mah gampang buktikan fotocopy ktpnya kayak</td>\n",
       "      <td>-1</td>\n",
       "    </tr>\n",
       "    <tr>\n",
       "      <th>22</th>\n",
       "      <td>fajarvantano1</td>\n",
       "      <td>nasihat filsafat kayak sukses bangsa amp negara gerbang kemakmuran wonk boneka stir bandar pemen...</td>\n",
       "      <td>-3</td>\n",
       "    </tr>\n",
       "    <tr>\n",
       "      <th>23</th>\n",
       "      <td>jeykumbara06</td>\n",
       "      <td>sekenario cari untung sgla adakan biaya membengkak saku kpu menebal proyek kan junjungan mu leng...</td>\n",
       "      <td>-6</td>\n",
       "    </tr>\n",
       "    <tr>\n",
       "      <th>...</th>\n",
       "      <td>...</td>\n",
       "      <td>...</td>\n",
       "      <td>...</td>\n",
       "    </tr>\n",
       "    <tr>\n",
       "      <th>985</th>\n",
       "      <td>alexssupink</td>\n",
       "      <td>buka kades parah adu domba</td>\n",
       "      <td>-8</td>\n",
       "    </tr>\n",
       "    <tr>\n",
       "      <th>987</th>\n",
       "      <td>kpupontianak</td>\n",
       "      <td>pengumuman hasil seleksi administrasi panitia kecamatan ppk ade niy silelah dicek namenye link ye</td>\n",
       "      <td>-1</td>\n",
       "    </tr>\n",
       "    <tr>\n",
       "      <th>989</th>\n",
       "      <td>jawapos</td>\n",
       "      <td>kpu rumuskan kampanye politik adu gagasan</td>\n",
       "      <td>-1</td>\n",
       "    </tr>\n",
       "    <tr>\n",
       "      <th>991</th>\n",
       "      <td>nadya_khennis</td>\n",
       "      <td>kawal bawaslu ajak masyarakat waspadai bahaya politik identitas</td>\n",
       "      <td>-1</td>\n",
       "    </tr>\n",
       "    <tr>\n",
       "      <th>999</th>\n",
       "      <td>rondamedsos</td>\n",
       "      <td>tindakan pastikan menurunkan elektabilitas pan sumatera barat buktinya</td>\n",
       "      <td>-2</td>\n",
       "    </tr>\n",
       "  </tbody>\n",
       "</table>\n",
       "<p>293 rows × 3 columns</p>\n",
       "</div>"
      ],
      "text/plain": [
       "          username  \\\n",
       "11     deje_vendra   \n",
       "17   bawaslu_krgsm   \n",
       "20      cengkonek2   \n",
       "22   fajarvantano1   \n",
       "23    jeykumbara06   \n",
       "..             ...   \n",
       "985    alexssupink   \n",
       "987   kpupontianak   \n",
       "989        jawapos   \n",
       "991  nadya_khennis   \n",
       "999    rondamedsos   \n",
       "\n",
       "                                                                                                   tweet  \\\n",
       "11                                                  arahan jokowi terkait kesiapan pelaksanaan serentak    \n",
       "17                       penyelesaian sengketa peserta salah kewenangan panwaslu kecamatan selengkapnya    \n",
       "20                   memang warga kalbar dayak sepaham claim mah gampang buktikan fotocopy ktpnya kayak    \n",
       "22   nasihat filsafat kayak sukses bangsa amp negara gerbang kemakmuran wonk boneka stir bandar pemen...   \n",
       "23   sekenario cari untung sgla adakan biaya membengkak saku kpu menebal proyek kan junjungan mu leng...   \n",
       "..                                                                                                   ...   \n",
       "985                                                                          buka kades parah adu domba    \n",
       "987   pengumuman hasil seleksi administrasi panitia kecamatan ppk ade niy silelah dicek namenye link ye    \n",
       "989                                                           kpu rumuskan kampanye politik adu gagasan    \n",
       "991                                     kawal bawaslu ajak masyarakat waspadai bahaya politik identitas    \n",
       "999                              tindakan pastikan menurunkan elektabilitas pan sumatera barat buktinya    \n",
       "\n",
       "     sentiment  \n",
       "11          -7  \n",
       "17          -4  \n",
       "20          -1  \n",
       "22          -3  \n",
       "23          -6  \n",
       "..         ...  \n",
       "985         -8  \n",
       "987         -1  \n",
       "989         -1  \n",
       "991         -1  \n",
       "999         -2  \n",
       "\n",
       "[293 rows x 3 columns]"
      ]
     },
     "execution_count": 63,
     "metadata": {},
     "output_type": "execute_result"
    }
   ],
   "source": [
    "df_poin[df_poin['sentiment']<0]"
   ]
  },
  {
   "cell_type": "code",
   "execution_count": 67,
   "id": "483c66b1",
   "metadata": {},
   "outputs": [],
   "source": [
    "X = df_end['tweet']\n",
    "Y = df_end['sentiment']"
   ]
  },
  {
   "cell_type": "code",
   "execution_count": 68,
   "id": "0384aae8",
   "metadata": {},
   "outputs": [
    {
     "data": {
      "text/plain": [
       "Positif    621\n",
       "Negatif    293\n",
       "Netral      86\n",
       "Name: sentiment, dtype: int64"
      ]
     },
     "execution_count": 68,
     "metadata": {},
     "output_type": "execute_result"
    }
   ],
   "source": [
    "Y.value_counts()"
   ]
  },
  {
   "cell_type": "code",
   "execution_count": null,
   "id": "78c96644",
   "metadata": {},
   "outputs": [],
   "source": [
    "from sklearn.preprocessing import MinMaxScaler #untuk normalisasi\n",
    "from sklearn import preprocessing #untuk processing data\n",
    "from sklearn.metrics import accuracy_score, f1_score, roc_auc_score, recall_score, precision_score #untuk evaluasi\n",
    "from sklearn.metrics import confusion_matrix, classification_report # untuk melihat data positive true dan negative true serta akurasinya\n",
    "from sklearn import model_selection"
   ]
  },
  {
   "cell_type": "code",
   "execution_count": null,
   "id": "4db0a338",
   "metadata": {},
   "outputs": [
    {
     "data": {
      "text/plain": [
       "'\\nnoteeee\\nlexi tidak memnerikan bobot pada word yang belum diketahui / << tidak bisa jadi patokan untuk use/nt\\nbeberapa kata sulit di stop/slangword change\\n\\nremember\\n\\n'"
      ]
     },
     "execution_count": 28,
     "metadata": {},
     "output_type": "execute_result"
    }
   ],
   "source": [
    "'''\n",
    "noteeee\n",
    "lexi tidak memnerikan bobot pada word yang belum diketahui / << tidak bisa jadi patokan untuk use/nt\n",
    "beberapa kata sulit di stop/slangword change\n",
    "\n",
    "remember\n",
    "\n",
    "'''"
   ]
  },
  {
   "attachments": {},
   "cell_type": "markdown",
   "id": "89fe894e",
   "metadata": {},
   "source": [
    "### Useless but Flawless"
   ]
  },
  {
   "cell_type": "code",
   "execution_count": null,
   "id": "e631e702",
   "metadata": {},
   "outputs": [
    {
     "data": {
      "text/plain": [
       "\"\\nunfound = []\\ntemp = []\\nfor i in range(0, len(dt['tweet'])):\\n    kalimat = dt['tweet'][i]\\n    word_tokens = word_tokenize(kalimat)\\n    for j in word_tokens:\\n        if j not in lexi['word'].values:\\n            unfound.append(j)\\n\""
      ]
     },
     "execution_count": 29,
     "metadata": {},
     "output_type": "execute_result"
    }
   ],
   "source": [
    "'''\n",
    "unfound = []\n",
    "temp = []\n",
    "for i in range(0, len(dt['tweet'])):\n",
    "    kalimat = dt['tweet'][i]\n",
    "    word_tokens = word_tokenize(kalimat)\n",
    "    for j in word_tokens:\n",
    "        if j not in lexi['word'].values:\n",
    "            unfound.append(j)\n",
    "'''"
   ]
  }
 ],
 "metadata": {
  "kernelspec": {
   "display_name": "base",
   "language": "python",
   "name": "python3"
  },
  "language_info": {
   "codemirror_mode": {
    "name": "ipython",
    "version": 3
   },
   "file_extension": ".py",
   "mimetype": "text/x-python",
   "name": "python",
   "nbconvert_exporter": "python",
   "pygments_lexer": "ipython3",
   "version": "3.8.8 (default, Apr 13 2021, 15:08:03) [MSC v.1916 64 bit (AMD64)]"
  },
  "vscode": {
   "interpreter": {
    "hash": "ad2bdc8ecc057115af97d19610ffacc2b4e99fae6737bb82f5d7fb13d2f2c186"
   }
  }
 },
 "nbformat": 4,
 "nbformat_minor": 5
}
