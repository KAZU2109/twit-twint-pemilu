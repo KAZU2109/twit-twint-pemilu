{
 "cells": [
  {
   "cell_type": "code",
   "execution_count": 45,
   "metadata": {},
   "outputs": [],
   "source": [
    "import pandas as pd\n",
    "import numpy as np\n",
    "import matplotlib.pyplot as plt\n",
    "import seaborn as sns\n",
    "import re\n",
    "import nltk\n",
    "from wordcloud import WordCloud, STOPWORDS\n",
    "\n",
    "sns.set_palette('coolwarm_r')\n",
    "sns.set_style('darkgrid')"
   ]
  },
  {
   "cell_type": "code",
   "execution_count": 46,
   "metadata": {},
   "outputs": [
    {
     "name": "stderr",
     "output_type": "stream",
     "text": [
      "<ipython-input-46-646a58e103ba>:1: ParserWarning: Falling back to the 'python' engine because the 'c' engine does not support regex separators (separators > 1 char and different from '\\s+' are interpreted as regex); you can avoid this warning by specifying engine='python'.\n",
      "  df = pd.read_csv(\"pemilu.csv\", sep=\"delimiter\", header=None)\n"
     ]
    },
    {
     "data": {
      "text/html": [
       "<div>\n",
       "<style scoped>\n",
       "    .dataframe tbody tr th:only-of-type {\n",
       "        vertical-align: middle;\n",
       "    }\n",
       "\n",
       "    .dataframe tbody tr th {\n",
       "        vertical-align: top;\n",
       "    }\n",
       "\n",
       "    .dataframe thead th {\n",
       "        text-align: right;\n",
       "    }\n",
       "</style>\n",
       "<table border=\"1\" class=\"dataframe\">\n",
       "  <thead>\n",
       "    <tr style=\"text-align: right;\">\n",
       "      <th></th>\n",
       "      <th>0</th>\n",
       "    </tr>\n",
       "  </thead>\n",
       "  <tbody>\n",
       "    <tr>\n",
       "      <th>0</th>\n",
       "      <td>id\\tconversation_id\\tcreated_at\\tdate\\ttime\\tt...</td>\n",
       "    </tr>\n",
       "    <tr>\n",
       "      <th>1</th>\n",
       "      <td>1598988753141366785\\t1598988753141366785\\t2022...</td>\n",
       "    </tr>\n",
       "    <tr>\n",
       "      <th>2</th>\n",
       "      <td>1598988533502717952\\t1598978908824952833\\t2022...</td>\n",
       "    </tr>\n",
       "    <tr>\n",
       "      <th>3</th>\n",
       "      <td>1598988458026205186\\t1598987652522708992\\t2022...</td>\n",
       "    </tr>\n",
       "    <tr>\n",
       "      <th>4</th>\n",
       "      <td>1598988138156036096\\t1598975159892774912\\t2022...</td>\n",
       "    </tr>\n",
       "  </tbody>\n",
       "</table>\n",
       "</div>"
      ],
      "text/plain": [
       "                                                   0\n",
       "0  id\\tconversation_id\\tcreated_at\\tdate\\ttime\\tt...\n",
       "1  1598988753141366785\\t1598988753141366785\\t2022...\n",
       "2  1598988533502717952\\t1598978908824952833\\t2022...\n",
       "3  1598988458026205186\\t1598987652522708992\\t2022...\n",
       "4  1598988138156036096\\t1598975159892774912\\t2022..."
      ]
     },
     "execution_count": 46,
     "metadata": {},
     "output_type": "execute_result"
    }
   ],
   "source": [
    "df = pd.read_csv(\"pemilu.csv\", sep=\"delimiter\", header=None)\n",
    "df.head()"
   ]
  },
  {
   "cell_type": "code",
   "execution_count": 47,
   "metadata": {},
   "outputs": [
    {
     "data": {
      "text/plain": [
       "0    id\\tconversation_id\\tcreated_at\\tdate\\ttime\\tt...\n",
       "Name: 0, dtype: object"
      ]
     },
     "execution_count": 47,
     "metadata": {},
     "output_type": "execute_result"
    }
   ],
   "source": [
    "df.loc[0]"
   ]
  },
  {
   "cell_type": "code",
   "execution_count": 48,
   "metadata": {},
   "outputs": [
    {
     "data": {
      "text/plain": [
       "'id\\tconversation_id\\tcreated_at\\tdate\\ttime\\ttimezone\\tuser_id\\tusername\\tname\\tplace\\ttweet\\tlanguage\\tmentions\\turls\\tphotos\\treplies_count\\tretweets_count\\tlikes_count\\thashtags\\tcashtags\\tlink\\tretweet\\tquote_url\\tvideo\\tthumbnail\\tnear\\tgeo\\tsource\\tuser_rt_id\\tuser_rt\\tretweet_id\\treply_to\\tretweet_date\\ttranslate\\ttrans_src\\ttrans_dest'"
      ]
     },
     "execution_count": 48,
     "metadata": {},
     "output_type": "execute_result"
    }
   ],
   "source": [
    "df[0].loc[0]"
   ]
  },
  {
   "cell_type": "code",
   "execution_count": 49,
   "metadata": {},
   "outputs": [
    {
     "name": "stdout",
     "output_type": "stream",
     "text": [
      "id\tconversation_id\tcreated_at\tdate\ttime\ttimezone\tuser_id\tusername\tname\tplace\ttweet\tlanguage\tmentions\turls\tphotos\treplies_count\tretweets_count\tlikes_count\thashtags\tcashtags\tlink\tretweet\tquote_url\tvideo\tthumbnail\tnear\tgeo\tsource\tuser_rt_id\tuser_rt\tretweet_id\treply_to\tretweet_date\ttranslate\ttrans_src\ttrans_dest\n"
     ]
    }
   ],
   "source": [
    "cols = df[0].loc[0]\n",
    "print(cols)"
   ]
  },
  {
   "cell_type": "code",
   "execution_count": 50,
   "metadata": {},
   "outputs": [
    {
     "data": {
      "text/plain": [
       "str"
      ]
     },
     "execution_count": 50,
     "metadata": {},
     "output_type": "execute_result"
    }
   ],
   "source": [
    "type(cols)"
   ]
  },
  {
   "cell_type": "code",
   "execution_count": 51,
   "metadata": {},
   "outputs": [],
   "source": [
    "cols = re.split('\\t', cols)"
   ]
  },
  {
   "cell_type": "code",
   "execution_count": 52,
   "metadata": {},
   "outputs": [
    {
     "data": {
      "text/plain": [
       "36"
      ]
     },
     "execution_count": 52,
     "metadata": {},
     "output_type": "execute_result"
    }
   ],
   "source": [
    "len(cols)"
   ]
  },
  {
   "cell_type": "code",
   "execution_count": 53,
   "metadata": {},
   "outputs": [
    {
     "data": {
      "text/plain": [
       "['retweet_id',\n",
       " 'reply_to',\n",
       " 'retweet_date',\n",
       " 'translate',\n",
       " 'trans_src',\n",
       " 'trans_dest']"
      ]
     },
     "execution_count": 53,
     "metadata": {},
     "output_type": "execute_result"
    }
   ],
   "source": [
    "cols[30:]"
   ]
  },
  {
   "cell_type": "code",
   "execution_count": 54,
   "metadata": {},
   "outputs": [
    {
     "data": {
      "text/plain": [
       "['retweet_id', 'reply_to']"
      ]
     },
     "execution_count": 54,
     "metadata": {},
     "output_type": "execute_result"
    }
   ],
   "source": [
    "del cols[32:36]\n",
    "cols[30:]"
   ]
  },
  {
   "cell_type": "code",
   "execution_count": 55,
   "metadata": {},
   "outputs": [
    {
     "data": {
      "text/plain": [
       "32"
      ]
     },
     "execution_count": 55,
     "metadata": {},
     "output_type": "execute_result"
    }
   ],
   "source": [
    "len(cols)"
   ]
  },
  {
   "cell_type": "code",
   "execution_count": 56,
   "metadata": {},
   "outputs": [
    {
     "data": {
      "text/plain": [
       "list"
      ]
     },
     "execution_count": 56,
     "metadata": {},
     "output_type": "execute_result"
    }
   ],
   "source": [
    "type(cols)"
   ]
  },
  {
   "cell_type": "code",
   "execution_count": 57,
   "metadata": {},
   "outputs": [],
   "source": [
    "rec = df[0].loc[1:]"
   ]
  },
  {
   "cell_type": "code",
   "execution_count": 58,
   "metadata": {},
   "outputs": [
    {
     "data": {
      "text/plain": [
       "pandas.core.series.Series"
      ]
     },
     "execution_count": 58,
     "metadata": {},
     "output_type": "execute_result"
    }
   ],
   "source": [
    "type(rec)"
   ]
  },
  {
   "cell_type": "code",
   "execution_count": 59,
   "metadata": {},
   "outputs": [
    {
     "data": {
      "text/plain": [
       "\"1598967485642178561\\t1598813736914984960\\t2022-12-03 16:08:50 SE Asia Standard Time\\t2022-12-03\\t16:08:50\\t+0700\\t793226762851225600\\tdzulfaqor1402\\tAhmad Dzulfaqor\\t\\t@irdzi29 @03__nakula yaudah gimana kalo pake narasi ; anies sebaiknya langsung diangkat jadi presiden  3 periode , gak usah ada pemilu  kardus bergembok 25t. jokowi mengaku taun depan smakin berat .  https://t.co/JAo6TfPpuJ\\tin\\t[]\\t[]\\t['https://pbs.twimg.com/media/FjCrZYjUYAEPb6x.jpg']\\t0\\t0\\t0\\t[]\\t[]\\thttps://twitter.com/dzulfaqor1402/status/1598967485642178561\\tFalse\\t\\t1\\thttps://pbs.twimg.com/media/FjCrZYjUYAEPb6x.jpg\\t\\t\\t\\t\\t\\t\\t[{'screen_name': 'irdzi29', 'name': 'Irdzi29', 'id': '1544885851540271104'}, {'screen_name': '03__nakula', 'name': 'Nakula', 'id': '1101696077147729920'}]\""
      ]
     },
     "execution_count": 59,
     "metadata": {},
     "output_type": "execute_result"
    }
   ],
   "source": [
    "rec[120]"
   ]
  },
  {
   "cell_type": "code",
   "execution_count": 60,
   "metadata": {},
   "outputs": [
    {
     "data": {
      "text/plain": [
       "32"
      ]
     },
     "execution_count": 60,
     "metadata": {},
     "output_type": "execute_result"
    }
   ],
   "source": [
    "len(re.split('\\t',rec[2]))"
   ]
  },
  {
   "cell_type": "code",
   "execution_count": 61,
   "metadata": {},
   "outputs": [],
   "source": [
    "temp = []\n",
    "for tex in rec:\n",
    "    tex = re.split('\\t', tex)\n",
    "    temp.append(tex)"
   ]
  },
  {
   "cell_type": "code",
   "execution_count": 62,
   "metadata": {},
   "outputs": [
    {
     "data": {
      "text/plain": [
       "list"
      ]
     },
     "execution_count": 62,
     "metadata": {},
     "output_type": "execute_result"
    }
   ],
   "source": [
    "type(temp[0])"
   ]
  },
  {
   "cell_type": "code",
   "execution_count": 63,
   "metadata": {},
   "outputs": [],
   "source": [
    "record = pd.Series(temp)"
   ]
  },
  {
   "cell_type": "code",
   "execution_count": 64,
   "metadata": {},
   "outputs": [
    {
     "data": {
      "text/plain": [
       "0    [1598988753141366785, 1598988753141366785, 202...\n",
       "1    [1598988533502717952, 1598978908824952833, 202...\n",
       "2    [1598988458026205186, 1598987652522708992, 202...\n",
       "3    [1598988138156036096, 1598975159892774912, 202...\n",
       "4    [1598988120103743490, 1598988120103743490, 202...\n",
       "dtype: object"
      ]
     },
     "execution_count": 64,
     "metadata": {},
     "output_type": "execute_result"
    }
   ],
   "source": [
    "record.head()"
   ]
  },
  {
   "cell_type": "code",
   "execution_count": 65,
   "metadata": {},
   "outputs": [
    {
     "data": {
      "text/plain": [
       "32"
      ]
     },
     "execution_count": 65,
     "metadata": {},
     "output_type": "execute_result"
    }
   ],
   "source": [
    "len(record[2])"
   ]
  },
  {
   "cell_type": "code",
   "execution_count": 66,
   "metadata": {},
   "outputs": [],
   "source": [
    "#rec1 = pd.Series(record).str.split(pat=None, n=-1, expand=False)\n",
    "#rec1.head()"
   ]
  },
  {
   "cell_type": "code",
   "execution_count": 67,
   "metadata": {},
   "outputs": [],
   "source": [
    "#len(rec1.loc[1])"
   ]
  },
  {
   "cell_type": "code",
   "execution_count": 68,
   "metadata": {},
   "outputs": [
    {
     "data": {
      "text/plain": [
       "'temp = []\\nfor x in range(len(record)):\\n    for y in range(len(cols)):\\n        print(x)'"
      ]
     },
     "execution_count": 68,
     "metadata": {},
     "output_type": "execute_result"
    }
   ],
   "source": [
    "'''temp = []\n",
    "for x in range(len(record)):\n",
    "    for y in range(len(cols)):\n",
    "        print(x)'''"
   ]
  },
  {
   "cell_type": "code",
   "execution_count": 69,
   "metadata": {},
   "outputs": [
    {
     "data": {
      "text/html": [
       "<div>\n",
       "<style scoped>\n",
       "    .dataframe tbody tr th:only-of-type {\n",
       "        vertical-align: middle;\n",
       "    }\n",
       "\n",
       "    .dataframe tbody tr th {\n",
       "        vertical-align: top;\n",
       "    }\n",
       "\n",
       "    .dataframe thead th {\n",
       "        text-align: right;\n",
       "    }\n",
       "</style>\n",
       "<table border=\"1\" class=\"dataframe\">\n",
       "  <thead>\n",
       "    <tr style=\"text-align: right;\">\n",
       "      <th></th>\n",
       "      <th>id</th>\n",
       "      <th>conversation_id</th>\n",
       "      <th>created_at</th>\n",
       "      <th>date</th>\n",
       "      <th>time</th>\n",
       "      <th>timezone</th>\n",
       "      <th>user_id</th>\n",
       "      <th>username</th>\n",
       "      <th>name</th>\n",
       "      <th>place</th>\n",
       "      <th>...</th>\n",
       "      <th>quote_url</th>\n",
       "      <th>video</th>\n",
       "      <th>thumbnail</th>\n",
       "      <th>near</th>\n",
       "      <th>geo</th>\n",
       "      <th>source</th>\n",
       "      <th>user_rt_id</th>\n",
       "      <th>user_rt</th>\n",
       "      <th>retweet_id</th>\n",
       "      <th>reply_to</th>\n",
       "    </tr>\n",
       "  </thead>\n",
       "  <tbody>\n",
       "    <tr>\n",
       "      <th>0</th>\n",
       "      <td>1598988753141366785</td>\n",
       "      <td>1598988753141366785</td>\n",
       "      <td>2022-12-03 17:33:21 SE Asia Standard Time</td>\n",
       "      <td>2022-12-03</td>\n",
       "      <td>17:33:21</td>\n",
       "      <td>+0700</td>\n",
       "      <td>1403066170022891524</td>\n",
       "      <td>jakulunlappung</td>\n",
       "      <td>Jak Ulun Lappung</td>\n",
       "      <td></td>\n",
       "      <td>...</td>\n",
       "      <td></td>\n",
       "      <td>0</td>\n",
       "      <td></td>\n",
       "      <td></td>\n",
       "      <td></td>\n",
       "      <td></td>\n",
       "      <td></td>\n",
       "      <td></td>\n",
       "      <td></td>\n",
       "      <td>[]</td>\n",
       "    </tr>\n",
       "    <tr>\n",
       "      <th>1</th>\n",
       "      <td>1598988533502717952</td>\n",
       "      <td>1598978908824952833</td>\n",
       "      <td>2022-12-03 17:32:28 SE Asia Standard Time</td>\n",
       "      <td>2022-12-03</td>\n",
       "      <td>17:32:28</td>\n",
       "      <td>+0700</td>\n",
       "      <td>877657279893458944</td>\n",
       "      <td>pkartawidjaja</td>\n",
       "      <td>PJBlues</td>\n",
       "      <td></td>\n",
       "      <td>...</td>\n",
       "      <td></td>\n",
       "      <td>0</td>\n",
       "      <td></td>\n",
       "      <td></td>\n",
       "      <td></td>\n",
       "      <td></td>\n",
       "      <td></td>\n",
       "      <td></td>\n",
       "      <td></td>\n",
       "      <td>[{'screen_name': 'MrsRachelIn', 'name': 'indri...</td>\n",
       "    </tr>\n",
       "    <tr>\n",
       "      <th>2</th>\n",
       "      <td>1598988458026205186</td>\n",
       "      <td>1598987652522708992</td>\n",
       "      <td>2022-12-03 17:32:10 SE Asia Standard Time</td>\n",
       "      <td>2022-12-03</td>\n",
       "      <td>17:32:10</td>\n",
       "      <td>+0700</td>\n",
       "      <td>86654218</td>\n",
       "      <td>sanyalkadrie</td>\n",
       "      <td>Sanz</td>\n",
       "      <td></td>\n",
       "      <td>...</td>\n",
       "      <td></td>\n",
       "      <td>0</td>\n",
       "      <td></td>\n",
       "      <td></td>\n",
       "      <td></td>\n",
       "      <td></td>\n",
       "      <td></td>\n",
       "      <td></td>\n",
       "      <td></td>\n",
       "      <td>[{'screen_name': 'geloraco', 'name': 'GELORA N...</td>\n",
       "    </tr>\n",
       "    <tr>\n",
       "      <th>3</th>\n",
       "      <td>1598988138156036096</td>\n",
       "      <td>1598975159892774912</td>\n",
       "      <td>2022-12-03 17:30:54 SE Asia Standard Time</td>\n",
       "      <td>2022-12-03</td>\n",
       "      <td>17:30:54</td>\n",
       "      <td>+0700</td>\n",
       "      <td>1146046641780039681</td>\n",
       "      <td>_4iii_na_t3h5h</td>\n",
       "      <td>_Aina_Queen</td>\n",
       "      <td></td>\n",
       "      <td>...</td>\n",
       "      <td></td>\n",
       "      <td>0</td>\n",
       "      <td></td>\n",
       "      <td></td>\n",
       "      <td></td>\n",
       "      <td></td>\n",
       "      <td></td>\n",
       "      <td></td>\n",
       "      <td></td>\n",
       "      <td>[{'screen_name': 'DeeRose782', 'name': 'DeeRos...</td>\n",
       "    </tr>\n",
       "    <tr>\n",
       "      <th>4</th>\n",
       "      <td>1598988120103743490</td>\n",
       "      <td>1598988120103743490</td>\n",
       "      <td>2022-12-03 17:30:50 SE Asia Standard Time</td>\n",
       "      <td>2022-12-03</td>\n",
       "      <td>17:30:50</td>\n",
       "      <td>+0700</td>\n",
       "      <td>1484217126395482112</td>\n",
       "      <td>tommyesa78</td>\n",
       "      <td>➡️</td>\n",
       "      <td></td>\n",
       "      <td>...</td>\n",
       "      <td>https://twitter.com/puspita3_eka/status/159898...</td>\n",
       "      <td>0</td>\n",
       "      <td></td>\n",
       "      <td></td>\n",
       "      <td></td>\n",
       "      <td></td>\n",
       "      <td></td>\n",
       "      <td></td>\n",
       "      <td></td>\n",
       "      <td>[]</td>\n",
       "    </tr>\n",
       "  </tbody>\n",
       "</table>\n",
       "<p>5 rows × 32 columns</p>\n",
       "</div>"
      ],
      "text/plain": [
       "                    id      conversation_id  \\\n",
       "0  1598988753141366785  1598988753141366785   \n",
       "1  1598988533502717952  1598978908824952833   \n",
       "2  1598988458026205186  1598987652522708992   \n",
       "3  1598988138156036096  1598975159892774912   \n",
       "4  1598988120103743490  1598988120103743490   \n",
       "\n",
       "                                  created_at        date      time timezone  \\\n",
       "0  2022-12-03 17:33:21 SE Asia Standard Time  2022-12-03  17:33:21    +0700   \n",
       "1  2022-12-03 17:32:28 SE Asia Standard Time  2022-12-03  17:32:28    +0700   \n",
       "2  2022-12-03 17:32:10 SE Asia Standard Time  2022-12-03  17:32:10    +0700   \n",
       "3  2022-12-03 17:30:54 SE Asia Standard Time  2022-12-03  17:30:54    +0700   \n",
       "4  2022-12-03 17:30:50 SE Asia Standard Time  2022-12-03  17:30:50    +0700   \n",
       "\n",
       "               user_id        username              name place  ...  \\\n",
       "0  1403066170022891524  jakulunlappung  Jak Ulun Lappung        ...   \n",
       "1   877657279893458944   pkartawidjaja           PJBlues        ...   \n",
       "2             86654218    sanyalkadrie              Sanz        ...   \n",
       "3  1146046641780039681  _4iii_na_t3h5h       _Aina_Queen        ...   \n",
       "4  1484217126395482112      tommyesa78                ➡️        ...   \n",
       "\n",
       "                                           quote_url video thumbnail near geo  \\\n",
       "0                                                        0                      \n",
       "1                                                        0                      \n",
       "2                                                        0                      \n",
       "3                                                        0                      \n",
       "4  https://twitter.com/puspita3_eka/status/159898...     0                      \n",
       "\n",
       "  source user_rt_id user_rt retweet_id  \\\n",
       "0                                        \n",
       "1                                        \n",
       "2                                        \n",
       "3                                        \n",
       "4                                        \n",
       "\n",
       "                                            reply_to  \n",
       "0                                                 []  \n",
       "1  [{'screen_name': 'MrsRachelIn', 'name': 'indri...  \n",
       "2  [{'screen_name': 'geloraco', 'name': 'GELORA N...  \n",
       "3  [{'screen_name': 'DeeRose782', 'name': 'DeeRos...  \n",
       "4                                                 []  \n",
       "\n",
       "[5 rows x 32 columns]"
      ]
     },
     "execution_count": 69,
     "metadata": {},
     "output_type": "execute_result"
    }
   ],
   "source": [
    "dt = pd.DataFrame(record.array, columns=cols)\n",
    "dt.head()"
   ]
  },
  {
   "cell_type": "code",
   "execution_count": 70,
   "metadata": {},
   "outputs": [
    {
     "name": "stdout",
     "output_type": "stream",
     "text": [
      "id                                               1598988533502717952\n",
      "conversation_id                                  1598978908824952833\n",
      "created_at                 2022-12-03 17:32:28 SE Asia Standard Time\n",
      "date                                                      2022-12-03\n",
      "time                                                        17:32:28\n",
      "timezone                                                       +0700\n",
      "user_id                                           877657279893458944\n",
      "username                                               pkartawidjaja\n",
      "name                                                         PJBlues\n",
      "place                                                               \n",
      "tweet              @MrsRachelIn @NasDem @Metro_TV @mohmahfudmd @K...\n",
      "language                                                          in\n",
      "mentions                                                          []\n",
      "urls                                                              []\n",
      "photos                                                            []\n",
      "replies_count                                                      0\n",
      "retweets_count                                                     0\n",
      "likes_count                                                        0\n",
      "hashtags                                                          []\n",
      "cashtags                                                          []\n",
      "link               https://twitter.com/PKartawidjaja/status/15989...\n",
      "retweet                                                        False\n",
      "quote_url                                                           \n",
      "video                                                              0\n",
      "thumbnail                                                           \n",
      "near                                                                \n",
      "geo                                                                 \n",
      "source                                                              \n",
      "user_rt_id                                                          \n",
      "user_rt                                                             \n",
      "retweet_id                                                          \n",
      "reply_to           [{'screen_name': 'MrsRachelIn', 'name': 'indri...\n",
      "Name: 1, dtype: object\n"
     ]
    }
   ],
   "source": [
    "print(dt.loc[1])"
   ]
  },
  {
   "cell_type": "code",
   "execution_count": 71,
   "metadata": {},
   "outputs": [
    {
     "name": "stdout",
     "output_type": "stream",
     "text": [
      "<class 'pandas.core.frame.DataFrame'>\n",
      "RangeIndex: 1010 entries, 0 to 1009\n",
      "Data columns (total 32 columns):\n",
      " #   Column           Non-Null Count  Dtype \n",
      "---  ------           --------------  ----- \n",
      " 0   id               1010 non-null   object\n",
      " 1   conversation_id  1009 non-null   object\n",
      " 2   created_at       1009 non-null   object\n",
      " 3   date             1009 non-null   object\n",
      " 4   time             1009 non-null   object\n",
      " 5   timezone         1009 non-null   object\n",
      " 6   user_id          1009 non-null   object\n",
      " 7   username         1009 non-null   object\n",
      " 8   name             1009 non-null   object\n",
      " 9   place            1009 non-null   object\n",
      " 10  tweet            1009 non-null   object\n",
      " 11  language         1008 non-null   object\n",
      " 12  mentions         1008 non-null   object\n",
      " 13  urls             1008 non-null   object\n",
      " 14  photos           1008 non-null   object\n",
      " 15  replies_count    1008 non-null   object\n",
      " 16  retweets_count   1008 non-null   object\n",
      " 17  likes_count      1008 non-null   object\n",
      " 18  hashtags         1008 non-null   object\n",
      " 19  cashtags         1008 non-null   object\n",
      " 20  link             1008 non-null   object\n",
      " 21  retweet          1008 non-null   object\n",
      " 22  quote_url        1007 non-null   object\n",
      " 23  video            1007 non-null   object\n",
      " 24  thumbnail        1007 non-null   object\n",
      " 25  near             1007 non-null   object\n",
      " 26  geo              1007 non-null   object\n",
      " 27  source           1007 non-null   object\n",
      " 28  user_rt_id       1007 non-null   object\n",
      " 29  user_rt          1007 non-null   object\n",
      " 30  retweet_id       1007 non-null   object\n",
      " 31  reply_to         1007 non-null   object\n",
      "dtypes: object(32)\n",
      "memory usage: 252.6+ KB\n"
     ]
    }
   ],
   "source": [
    "dt.info()"
   ]
  },
  {
   "cell_type": "code",
   "execution_count": 72,
   "metadata": {},
   "outputs": [],
   "source": [
    "dt['tweet'].drop_duplicates(inplace=True)\n",
    "dt.dropna(inplace=True)\n",
    "dt = dt.reset_index(drop=True)"
   ]
  },
  {
   "cell_type": "code",
   "execution_count": 73,
   "metadata": {},
   "outputs": [
    {
     "name": "stdout",
     "output_type": "stream",
     "text": [
      "<class 'pandas.core.frame.DataFrame'>\n",
      "RangeIndex: 1007 entries, 0 to 1006\n",
      "Data columns (total 32 columns):\n",
      " #   Column           Non-Null Count  Dtype \n",
      "---  ------           --------------  ----- \n",
      " 0   id               1007 non-null   object\n",
      " 1   conversation_id  1007 non-null   object\n",
      " 2   created_at       1007 non-null   object\n",
      " 3   date             1007 non-null   object\n",
      " 4   time             1007 non-null   object\n",
      " 5   timezone         1007 non-null   object\n",
      " 6   user_id          1007 non-null   object\n",
      " 7   username         1007 non-null   object\n",
      " 8   name             1007 non-null   object\n",
      " 9   place            1007 non-null   object\n",
      " 10  tweet            1007 non-null   object\n",
      " 11  language         1007 non-null   object\n",
      " 12  mentions         1007 non-null   object\n",
      " 13  urls             1007 non-null   object\n",
      " 14  photos           1007 non-null   object\n",
      " 15  replies_count    1007 non-null   object\n",
      " 16  retweets_count   1007 non-null   object\n",
      " 17  likes_count      1007 non-null   object\n",
      " 18  hashtags         1007 non-null   object\n",
      " 19  cashtags         1007 non-null   object\n",
      " 20  link             1007 non-null   object\n",
      " 21  retweet          1007 non-null   object\n",
      " 22  quote_url        1007 non-null   object\n",
      " 23  video            1007 non-null   object\n",
      " 24  thumbnail        1007 non-null   object\n",
      " 25  near             1007 non-null   object\n",
      " 26  geo              1007 non-null   object\n",
      " 27  source           1007 non-null   object\n",
      " 28  user_rt_id       1007 non-null   object\n",
      " 29  user_rt          1007 non-null   object\n",
      " 30  retweet_id       1007 non-null   object\n",
      " 31  reply_to         1007 non-null   object\n",
      "dtypes: object(32)\n",
      "memory usage: 251.9+ KB\n"
     ]
    }
   ],
   "source": [
    "dt.info()"
   ]
  },
  {
   "cell_type": "code",
   "execution_count": 74,
   "metadata": {},
   "outputs": [
    {
     "data": {
      "text/html": [
       "<div>\n",
       "<style scoped>\n",
       "    .dataframe tbody tr th:only-of-type {\n",
       "        vertical-align: middle;\n",
       "    }\n",
       "\n",
       "    .dataframe tbody tr th {\n",
       "        vertical-align: top;\n",
       "    }\n",
       "\n",
       "    .dataframe thead th {\n",
       "        text-align: right;\n",
       "    }\n",
       "</style>\n",
       "<table border=\"1\" class=\"dataframe\">\n",
       "  <thead>\n",
       "    <tr style=\"text-align: right;\">\n",
       "      <th></th>\n",
       "      <th>id</th>\n",
       "      <th>conversation_id</th>\n",
       "      <th>created_at</th>\n",
       "      <th>date</th>\n",
       "      <th>time</th>\n",
       "      <th>timezone</th>\n",
       "      <th>user_id</th>\n",
       "      <th>username</th>\n",
       "      <th>name</th>\n",
       "      <th>place</th>\n",
       "      <th>...</th>\n",
       "      <th>quote_url</th>\n",
       "      <th>video</th>\n",
       "      <th>thumbnail</th>\n",
       "      <th>near</th>\n",
       "      <th>geo</th>\n",
       "      <th>source</th>\n",
       "      <th>user_rt_id</th>\n",
       "      <th>user_rt</th>\n",
       "      <th>retweet_id</th>\n",
       "      <th>reply_to</th>\n",
       "    </tr>\n",
       "  </thead>\n",
       "  <tbody>\n",
       "    <tr>\n",
       "      <th>count</th>\n",
       "      <td>1007</td>\n",
       "      <td>1007</td>\n",
       "      <td>1007</td>\n",
       "      <td>1007</td>\n",
       "      <td>1007</td>\n",
       "      <td>1007</td>\n",
       "      <td>1007</td>\n",
       "      <td>1007</td>\n",
       "      <td>1007</td>\n",
       "      <td>1007</td>\n",
       "      <td>...</td>\n",
       "      <td>1007</td>\n",
       "      <td>1007</td>\n",
       "      <td>1007</td>\n",
       "      <td>1007</td>\n",
       "      <td>1007</td>\n",
       "      <td>1007</td>\n",
       "      <td>1007</td>\n",
       "      <td>1007</td>\n",
       "      <td>1007</td>\n",
       "      <td>1007</td>\n",
       "    </tr>\n",
       "    <tr>\n",
       "      <th>unique</th>\n",
       "      <td>1007</td>\n",
       "      <td>826</td>\n",
       "      <td>993</td>\n",
       "      <td>2</td>\n",
       "      <td>993</td>\n",
       "      <td>1</td>\n",
       "      <td>789</td>\n",
       "      <td>789</td>\n",
       "      <td>787</td>\n",
       "      <td>2</td>\n",
       "      <td>...</td>\n",
       "      <td>48</td>\n",
       "      <td>2</td>\n",
       "      <td>310</td>\n",
       "      <td>1</td>\n",
       "      <td>1</td>\n",
       "      <td>1</td>\n",
       "      <td>1</td>\n",
       "      <td>1</td>\n",
       "      <td>1</td>\n",
       "      <td>207</td>\n",
       "    </tr>\n",
       "    <tr>\n",
       "      <th>top</th>\n",
       "      <td>1598860550510895104</td>\n",
       "      <td>1598855291856375808</td>\n",
       "      <td>2022-12-03 12:30:00 SE Asia Standard Time</td>\n",
       "      <td>2022-12-03</td>\n",
       "      <td>12:30:00</td>\n",
       "      <td>+0700</td>\n",
       "      <td>1564288747557888000</td>\n",
       "      <td>pemiludamai2024</td>\n",
       "      <td>PemiluDamai2024🇮🇩</td>\n",
       "      <td></td>\n",
       "      <td>...</td>\n",
       "      <td></td>\n",
       "      <td>0</td>\n",
       "      <td></td>\n",
       "      <td></td>\n",
       "      <td></td>\n",
       "      <td></td>\n",
       "      <td></td>\n",
       "      <td></td>\n",
       "      <td></td>\n",
       "      <td>[]</td>\n",
       "    </tr>\n",
       "    <tr>\n",
       "      <th>freq</th>\n",
       "      <td>1</td>\n",
       "      <td>12</td>\n",
       "      <td>4</td>\n",
       "      <td>911</td>\n",
       "      <td>4</td>\n",
       "      <td>1007</td>\n",
       "      <td>16</td>\n",
       "      <td>16</td>\n",
       "      <td>16</td>\n",
       "      <td>1006</td>\n",
       "      <td>...</td>\n",
       "      <td>955</td>\n",
       "      <td>692</td>\n",
       "      <td>692</td>\n",
       "      <td>1007</td>\n",
       "      <td>1007</td>\n",
       "      <td>1007</td>\n",
       "      <td>1007</td>\n",
       "      <td>1007</td>\n",
       "      <td>1007</td>\n",
       "      <td>632</td>\n",
       "    </tr>\n",
       "  </tbody>\n",
       "</table>\n",
       "<p>4 rows × 32 columns</p>\n",
       "</div>"
      ],
      "text/plain": [
       "                         id      conversation_id  \\\n",
       "count                  1007                 1007   \n",
       "unique                 1007                  826   \n",
       "top     1598860550510895104  1598855291856375808   \n",
       "freq                      1                   12   \n",
       "\n",
       "                                       created_at        date      time  \\\n",
       "count                                        1007        1007      1007   \n",
       "unique                                        993           2       993   \n",
       "top     2022-12-03 12:30:00 SE Asia Standard Time  2022-12-03  12:30:00   \n",
       "freq                                            4         911         4   \n",
       "\n",
       "       timezone              user_id         username               name  \\\n",
       "count      1007                 1007             1007               1007   \n",
       "unique        1                  789              789                787   \n",
       "top       +0700  1564288747557888000  pemiludamai2024  PemiluDamai2024🇮🇩   \n",
       "freq       1007                   16               16                 16   \n",
       "\n",
       "       place  ... quote_url video thumbnail  near   geo source user_rt_id  \\\n",
       "count   1007  ...      1007  1007      1007  1007  1007   1007       1007   \n",
       "unique     2  ...        48     2       310     1     1      1          1   \n",
       "top           ...               0                                           \n",
       "freq    1006  ...       955   692       692  1007  1007   1007       1007   \n",
       "\n",
       "       user_rt retweet_id reply_to  \n",
       "count     1007       1007     1007  \n",
       "unique       1          1      207  \n",
       "top                             []  \n",
       "freq      1007       1007      632  \n",
       "\n",
       "[4 rows x 32 columns]"
      ]
     },
     "execution_count": 74,
     "metadata": {},
     "output_type": "execute_result"
    }
   ],
   "source": [
    "dt.describe()"
   ]
  },
  {
   "cell_type": "code",
   "execution_count": 75,
   "metadata": {},
   "outputs": [
    {
     "data": {
      "text/plain": [
       "id                                               1598975832579624960\n",
       "conversation_id                                  1598975832579624960\n",
       "created_at                 2022-12-03 16:42:00 SE Asia Standard Time\n",
       "date                                                      2022-12-03\n",
       "time                                                        16:42:00\n",
       "timezone                                                       +0700\n",
       "user_id                                          1593861451797889025\n",
       "username                                              panwascamtansa\n",
       "name                                 Panwaslu Kecamatan Tanah Sareal\n",
       "place              {'type': 'Point', 'coordinates': [-6.18903118,...\n",
       "tweet              Difabel Memiliki Hak Yang Sama Dalam Pemilu da...\n",
       "language                                                          in\n",
       "mentions                                                          []\n",
       "urls               ['https://www.instagram.com/p/Cls34flhhgr/?igs...\n",
       "photos                                                            []\n",
       "replies_count                                                      0\n",
       "retweets_count                                                     0\n",
       "likes_count                                                        0\n",
       "hashtags           ['pemilu2024', 'bawaslu', 'bawaslujabar', 'baw...\n",
       "cashtags                                                          []\n",
       "link               https://twitter.com/PanwascamTansa/status/1598...\n",
       "retweet                                                        False\n",
       "quote_url                                                           \n",
       "video                                                              0\n",
       "thumbnail                                                           \n",
       "near                                                                \n",
       "geo                                                                 \n",
       "source                                                              \n",
       "user_rt_id                                                          \n",
       "user_rt                                                             \n",
       "retweet_id                                                          \n",
       "reply_to                                                          []\n",
       "Name: 71, dtype: object"
      ]
     },
     "execution_count": 75,
     "metadata": {},
     "output_type": "execute_result"
    }
   ],
   "source": [
    "dt.iloc[71]"
   ]
  },
  {
   "cell_type": "code",
   "execution_count": 76,
   "metadata": {},
   "outputs": [
    {
     "data": {
      "text/plain": [
       "71    Difabel Memiliki Hak Yang Sama Dalam Pemilu da...\n",
       "Name: tweet, dtype: object"
      ]
     },
     "execution_count": 76,
     "metadata": {},
     "output_type": "execute_result"
    }
   ],
   "source": [
    "dt['tweet'][dt['place'] != dt['place'].loc[1]]"
   ]
  },
  {
   "cell_type": "code",
   "execution_count": 77,
   "metadata": {},
   "outputs": [
    {
     "data": {
      "text/plain": [
       "0      684\n",
       "1      158\n",
       "2       64\n",
       "4       22\n",
       "3       21\n",
       "6        7\n",
       "5        6\n",
       "12       5\n",
       "7        5\n",
       "18       5\n",
       "9        3\n",
       "13       2\n",
       "11       2\n",
       "8        2\n",
       "10       2\n",
       "15       2\n",
       "17       2\n",
       "62       1\n",
       "35       1\n",
       "33       1\n",
       "92       1\n",
       "23       1\n",
       "207      1\n",
       "26       1\n",
       "43       1\n",
       "16       1\n",
       "45       1\n",
       "46       1\n",
       "25       1\n",
       "138      1\n",
       "40       1\n",
       "36       1\n",
       "Name: likes_count, dtype: int64"
      ]
     },
     "execution_count": 77,
     "metadata": {},
     "output_type": "execute_result"
    }
   ],
   "source": [
    "dt['likes_count'].value_counts()"
   ]
  },
  {
   "cell_type": "code",
   "execution_count": 78,
   "metadata": {},
   "outputs": [
    {
     "data": {
      "text/plain": [
       "<PandasArray>\n",
       "['\"KPU meluncurkan maskot Pemilu 2024 bernama \"\"Sura dan Sulu\"\" serta jingle berjudul \"\"Memilih untuk Indonesia\"\". Maskot bersimbol surat suara dan alat coblos tersebut merupakan sepasang burung Jalak Bali. #Polhuk #AdadiKompas  https://t.co/621z0TBag0\"', '\"KPU meluncurkan maskot Pemilu 2024 bernama \"\"Sura dan Sulu\"\" serta jingle berjudul \"\"Memilih untuk Indonesia\"\". Maskot bersimbol surat suara dan alat coblos tersebut merupakan sepasang burung Jalak Bali. #Polhuk #AdadiKompas   https://t.co/jmzBkb6Wyd\"']\n",
       "Length: 2, dtype: object"
      ]
     },
     "execution_count": 78,
     "metadata": {},
     "output_type": "execute_result"
    }
   ],
   "source": [
    "dt['tweet'].iloc[[1003,1004]].array"
   ]
  },
  {
   "cell_type": "code",
   "execution_count": 79,
   "metadata": {},
   "outputs": [
    {
     "data": {
      "text/html": [
       "<div>\n",
       "<style scoped>\n",
       "    .dataframe tbody tr th:only-of-type {\n",
       "        vertical-align: middle;\n",
       "    }\n",
       "\n",
       "    .dataframe tbody tr th {\n",
       "        vertical-align: top;\n",
       "    }\n",
       "\n",
       "    .dataframe thead th {\n",
       "        text-align: right;\n",
       "    }\n",
       "</style>\n",
       "<table border=\"1\" class=\"dataframe\">\n",
       "  <thead>\n",
       "    <tr style=\"text-align: right;\">\n",
       "      <th></th>\n",
       "      <th>username</th>\n",
       "      <th>date</th>\n",
       "      <th>tweet</th>\n",
       "      <th>link</th>\n",
       "    </tr>\n",
       "  </thead>\n",
       "  <tbody>\n",
       "    <tr>\n",
       "      <th>0</th>\n",
       "      <td>jakulunlappung</td>\n",
       "      <td>2022-12-03</td>\n",
       "      <td>Garut Sisca Innalillahi Pangandaran Kebumen Ba...</td>\n",
       "      <td>https://twitter.com/jakulunlappung/status/1598...</td>\n",
       "    </tr>\n",
       "    <tr>\n",
       "      <th>1</th>\n",
       "      <td>pkartawidjaja</td>\n",
       "      <td>2022-12-03</td>\n",
       "      <td>@MrsRachelIn @NasDem @Metro_TV @mohmahfudmd @K...</td>\n",
       "      <td>https://twitter.com/PKartawidjaja/status/15989...</td>\n",
       "    </tr>\n",
       "    <tr>\n",
       "      <th>2</th>\n",
       "      <td>sanyalkadrie</td>\n",
       "      <td>2022-12-03</td>\n",
       "      <td>@geloraco Contoh jelasnya PJ Gub DKI.. serasa ...</td>\n",
       "      <td>https://twitter.com/sanyalkadrie/status/159898...</td>\n",
       "    </tr>\n",
       "    <tr>\n",
       "      <th>3</th>\n",
       "      <td>_4iii_na_t3h5h</td>\n",
       "      <td>2022-12-03</td>\n",
       "      <td>@DeeRose782 Begini nih kalau ODGJ diijinkan ik...</td>\n",
       "      <td>https://twitter.com/_4iii_Na_T3H5h/status/1598...</td>\n",
       "    </tr>\n",
       "    <tr>\n",
       "      <th>4</th>\n",
       "      <td>tommyesa78</td>\n",
       "      <td>2022-12-03</td>\n",
       "      <td>Se arogan ini kah mereka? Begitu bernafsunya m...</td>\n",
       "      <td>https://twitter.com/Tommyesa78/status/15989881...</td>\n",
       "    </tr>\n",
       "    <tr>\n",
       "      <th>...</th>\n",
       "      <td>...</td>\n",
       "      <td>...</td>\n",
       "      <td>...</td>\n",
       "      <td>...</td>\n",
       "    </tr>\n",
       "    <tr>\n",
       "      <th>1002</th>\n",
       "      <td>tvonenews</td>\n",
       "      <td>2022-12-02</td>\n",
       "      <td>KPU Patuhi Arahan Jokowi Soal Pencegahan Polit...</td>\n",
       "      <td>https://twitter.com/tvOneNews/status/159869412...</td>\n",
       "    </tr>\n",
       "    <tr>\n",
       "      <th>1003</th>\n",
       "      <td>kompasdata</td>\n",
       "      <td>2022-12-02</td>\n",
       "      <td>\"KPU meluncurkan maskot Pemilu 2024 bernama \"\"...</td>\n",
       "      <td>https://twitter.com/KompasData/status/15986937...</td>\n",
       "    </tr>\n",
       "    <tr>\n",
       "      <th>1004</th>\n",
       "      <td>hariankompas</td>\n",
       "      <td>2022-12-02</td>\n",
       "      <td>\"KPU meluncurkan maskot Pemilu 2024 bernama \"\"...</td>\n",
       "      <td>https://twitter.com/hariankompas/status/159869...</td>\n",
       "    </tr>\n",
       "    <tr>\n",
       "      <th>1005</th>\n",
       "      <td>rakyatj97874842</td>\n",
       "      <td>2022-12-02</td>\n",
       "      <td>@OposisiCerdas Klo gak mudah yo gampang pak dh...</td>\n",
       "      <td>https://twitter.com/RAKYATJ97874842/status/159...</td>\n",
       "    </tr>\n",
       "    <tr>\n",
       "      <th>1006</th>\n",
       "      <td>rondamedsos</td>\n",
       "      <td>2022-12-02</td>\n",
       "      <td>@tvOneNews Tindakan ini saya pastikan akan men...</td>\n",
       "      <td>https://twitter.com/rondamedsos/status/1598693...</td>\n",
       "    </tr>\n",
       "  </tbody>\n",
       "</table>\n",
       "<p>1007 rows × 4 columns</p>\n",
       "</div>"
      ],
      "text/plain": [
       "             username        date  \\\n",
       "0      jakulunlappung  2022-12-03   \n",
       "1       pkartawidjaja  2022-12-03   \n",
       "2        sanyalkadrie  2022-12-03   \n",
       "3      _4iii_na_t3h5h  2022-12-03   \n",
       "4          tommyesa78  2022-12-03   \n",
       "...               ...         ...   \n",
       "1002        tvonenews  2022-12-02   \n",
       "1003       kompasdata  2022-12-02   \n",
       "1004     hariankompas  2022-12-02   \n",
       "1005  rakyatj97874842  2022-12-02   \n",
       "1006      rondamedsos  2022-12-02   \n",
       "\n",
       "                                                  tweet  \\\n",
       "0     Garut Sisca Innalillahi Pangandaran Kebumen Ba...   \n",
       "1     @MrsRachelIn @NasDem @Metro_TV @mohmahfudmd @K...   \n",
       "2     @geloraco Contoh jelasnya PJ Gub DKI.. serasa ...   \n",
       "3     @DeeRose782 Begini nih kalau ODGJ diijinkan ik...   \n",
       "4     Se arogan ini kah mereka? Begitu bernafsunya m...   \n",
       "...                                                 ...   \n",
       "1002  KPU Patuhi Arahan Jokowi Soal Pencegahan Polit...   \n",
       "1003  \"KPU meluncurkan maskot Pemilu 2024 bernama \"\"...   \n",
       "1004  \"KPU meluncurkan maskot Pemilu 2024 bernama \"\"...   \n",
       "1005  @OposisiCerdas Klo gak mudah yo gampang pak dh...   \n",
       "1006  @tvOneNews Tindakan ini saya pastikan akan men...   \n",
       "\n",
       "                                                   link  \n",
       "0     https://twitter.com/jakulunlappung/status/1598...  \n",
       "1     https://twitter.com/PKartawidjaja/status/15989...  \n",
       "2     https://twitter.com/sanyalkadrie/status/159898...  \n",
       "3     https://twitter.com/_4iii_Na_T3H5h/status/1598...  \n",
       "4     https://twitter.com/Tommyesa78/status/15989881...  \n",
       "...                                                 ...  \n",
       "1002  https://twitter.com/tvOneNews/status/159869412...  \n",
       "1003  https://twitter.com/KompasData/status/15986937...  \n",
       "1004  https://twitter.com/hariankompas/status/159869...  \n",
       "1005  https://twitter.com/RAKYATJ97874842/status/159...  \n",
       "1006  https://twitter.com/rondamedsos/status/1598693...  \n",
       "\n",
       "[1007 rows x 4 columns]"
      ]
     },
     "execution_count": 79,
     "metadata": {},
     "output_type": "execute_result"
    }
   ],
   "source": [
    "dt.iloc[:,[7,3,10,20]]"
   ]
  },
  {
   "cell_type": "code",
   "execution_count": 80,
   "metadata": {},
   "outputs": [],
   "source": [
    "dt_use = dt.iloc[:,[7,3,10,20]]"
   ]
  },
  {
   "cell_type": "code",
   "execution_count": 81,
   "metadata": {},
   "outputs": [
    {
     "name": "stdout",
     "output_type": "stream",
     "text": [
      "<class 'pandas.core.frame.DataFrame'>\n",
      "RangeIndex: 1007 entries, 0 to 1006\n",
      "Data columns (total 4 columns):\n",
      " #   Column    Non-Null Count  Dtype \n",
      "---  ------    --------------  ----- \n",
      " 0   username  1007 non-null   object\n",
      " 1   date      1007 non-null   object\n",
      " 2   tweet     1007 non-null   object\n",
      " 3   link      1007 non-null   object\n",
      "dtypes: object(4)\n",
      "memory usage: 31.6+ KB\n"
     ]
    }
   ],
   "source": [
    "dt_use.info()"
   ]
  },
  {
   "cell_type": "code",
   "execution_count": 82,
   "metadata": {},
   "outputs": [
    {
     "data": {
      "image/png": "[encoded data removed]",
      "text/plain": [
       "<Figure size 1080x360 with 1 Axes>"
      ]
     },
     "metadata": {},
     "output_type": "display_data"
    }
   ],
   "source": [
    "f, ax =plt.subplots(1,1, figsize=(15,5))\n",
    "sns.barplot(x=dt.describe().columns, y=dt.describe().values[1])\n",
    "plt.xticks(rotation=90)\n",
    "plt.show()"
   ]
  },
  {
   "cell_type": "code",
   "execution_count": 83,
   "metadata": {},
   "outputs": [
    {
     "data": {
      "text/html": [
       "<div>\n",
       "<style scoped>\n",
       "    .dataframe tbody tr th:only-of-type {\n",
       "        vertical-align: middle;\n",
       "    }\n",
       "\n",
       "    .dataframe tbody tr th {\n",
       "        vertical-align: top;\n",
       "    }\n",
       "\n",
       "    .dataframe thead th {\n",
       "        text-align: right;\n",
       "    }\n",
       "</style>\n",
       "<table border=\"1\" class=\"dataframe\">\n",
       "  <thead>\n",
       "    <tr style=\"text-align: right;\">\n",
       "      <th></th>\n",
       "      <th>username</th>\n",
       "    </tr>\n",
       "  </thead>\n",
       "  <tbody>\n",
       "    <tr>\n",
       "      <th>pemiludamai2024</th>\n",
       "      <td>16</td>\n",
       "    </tr>\n",
       "  </tbody>\n",
       "</table>\n",
       "</div>"
      ],
      "text/plain": [
       "                 username\n",
       "pemiludamai2024        16"
      ]
     },
     "execution_count": 83,
     "metadata": {},
     "output_type": "execute_result"
    }
   ],
   "source": [
    "usercount = pd.DataFrame(dt['username'].value_counts())\n",
    "usercount.head(1)"
   ]
  },
  {
   "cell_type": "code",
   "execution_count": 84,
   "metadata": {},
   "outputs": [
    {
     "data": {
      "text/plain": [
       "Index(['pemiludamai2024', 'kpukampar', 'beritasatu', 'sulaem7sulaeman',\n",
       "       'panwaslongmes'],\n",
       "      dtype='object')"
      ]
     },
     "execution_count": 84,
     "metadata": {},
     "output_type": "execute_result"
    }
   ],
   "source": [
    "usercount[usercount['username'] >4].index"
   ]
  },
  {
   "cell_type": "code",
   "execution_count": 85,
   "metadata": {},
   "outputs": [
    {
     "data": {
      "image/png": "[encoded data removed]",
      "text/plain": [
       "<Figure size 720x360 with 1 Axes>"
      ]
     },
     "metadata": {},
     "output_type": "display_data"
    }
   ],
   "source": [
    "fig = plt.subplots(figsize=(10,5))\n",
    "sns.barplot(x=usercount[usercount['username'] >4].index, y=usercount['username'][usercount['username'] >4])\n",
    "plt.xlabel('username', fontsize=13)\n",
    "plt.ylabel('count', fontsize=13)\n",
    "plt.xticks(rotation=45)\n",
    "plt.show()"
   ]
  },
  {
   "cell_type": "code",
   "execution_count": 86,
   "metadata": {},
   "outputs": [
    {
     "name": "stderr",
     "output_type": "stream",
     "text": [
      "c:\\ProgramData\\Anaconda3\\lib\\site-packages\\seaborn\\_decorators.py:36: FutureWarning: Pass the following variable as a keyword arg: x. From version 0.12, the only valid positional argument will be `data`, and passing other arguments without an explicit keyword will result in an error or misinterpretation.\n",
      "  warnings.warn(\n"
     ]
    },
    {
     "data": {
      "image/png": "[encoded data removed]",
      "text/plain": [
       "<Figure size 720x360 with 1 Axes>"
      ]
     },
     "metadata": {},
     "output_type": "display_data"
    }
   ],
   "source": [
    "tot = float(len(dt['username']))\n",
    "f, ax = plt.subplots(1,1, figsize=(10,5))\n",
    "sns.countplot(dt['username'], order=dt['username'].value_counts().index[:10], palette='coolwarm_r')\n",
    "for x in ax.patches:\n",
    "    height = x.get_height()\n",
    "    ax.text(x.get_x()+x.get_width()/2., \n",
    "    height + 0.2, \n",
    "    '{:1.2f}%'.format(100*height/tot),\n",
    "    ha='center')\n",
    "plt.xticks(rotation=90)\n",
    "plt.show()"
   ]
  },
  {
   "cell_type": "code",
   "execution_count": 87,
   "metadata": {},
   "outputs": [
    {
     "data": {
      "text/plain": [
       "array([789, 2, 1005, 1007], dtype=object)"
      ]
     },
     "execution_count": 87,
     "metadata": {},
     "output_type": "execute_result"
    }
   ],
   "source": [
    "dt_use.describe().values[1]"
   ]
  },
  {
   "cell_type": "code",
   "execution_count": 88,
   "metadata": {},
   "outputs": [
    {
     "data": {
      "image/png": "[encoded data removed]",
      "text/plain": [
       "<Figure size 792x792 with 1 Axes>"
      ]
     },
     "metadata": {},
     "output_type": "display_data"
    }
   ],
   "source": [
    "stpwords = set(STOPWORDS)\n",
    "wrdcloud = WordCloud(\n",
    "    stopwords=stpwords,\n",
    "    max_words=40,\n",
    "    max_font_size=36,\n",
    "    scale=5,\n",
    "    random_state=100,\n",
    "    colormap='RdBu'\n",
    ").generate(str(dt_use['tweet']))\n",
    "fig = plt.subplots(1,figsize=(11,11))\n",
    "plt.axis('off')\n",
    "plt.imshow(wrdcloud)\n",
    "plt.show()"
   ]
  },
  {
   "cell_type": "code",
   "execution_count": 90,
   "metadata": {},
   "outputs": [],
   "source": [
    "dt_use.to_csv('twet_data.csv', index=False)"
   ]
  },
  {
   "cell_type": "markdown",
   "metadata": {},
   "source": []
  },
  {
   "attachments": {},
   "cell_type": "markdown",
   "metadata": {},
   "source": [
    "### More Slang words"
   ]
  },
  {
   "cell_type": "code",
   "execution_count": null,
   "id": "bf6edeb6",
   "metadata": {},
   "outputs": [],
   "source": [
    "rawslang = open(\"Raw_data\\slangword.txt\",\"r\")\n",
    "slangsplit = rawslang.read()\n",
    "slangsplit = re.split('\\n|\\t', slangsplit)"
   ]
  },
  {
   "cell_type": "code",
   "execution_count": null,
   "id": "c1061226",
   "metadata": {},
   "outputs": [],
   "source": [
    "def Conv_listtodict(list):\n",
    "    res = {list[i]: list[i + 1] for i in range(0, len(list), 2)}\n",
    "    return res"
   ]
  },
  {
   "cell_type": "code",
   "execution_count": null,
   "id": "8be5bcbd",
   "metadata": {},
   "outputs": [],
   "source": [
    "slang_dict = Conv_listtodict(slangsplit[:2710])"
   ]
  },
  {
   "cell_type": "code",
   "execution_count": null,
   "id": "d6091fe6",
   "metadata": {},
   "outputs": [],
   "source": [
    "with open('CleanerText\\clean_slangwords2.txt','w') as data:\n",
    "    data.write(str(slang_dict))"
   ]
  }
 ],
 "metadata": {
  "kernelspec": {
   "display_name": "Python 3",
   "language": "python",
   "name": "python3"
  },
  "language_info": {
   "codemirror_mode": {
    "name": "ipython",
    "version": 3
   },
   "file_extension": ".py",
   "mimetype": "text/x-python",
   "name": "python",
   "nbconvert_exporter": "python",
   "pygments_lexer": "ipython3",
   "version": "3.10.9 (tags/v3.10.9:1dd9be6, Dec  6 2022, 20:01:21) [MSC v.1934 64 bit (AMD64)]"
  },
  "orig_nbformat": 4,
  "vscode": {
   "interpreter": {
    "hash": "39c165c1bf95fbd241f02ed1d943c17bb648a9f5f6afdfc0deb26b73307a75ca"
   }
  }
 },
 "nbformat": 4,
 "nbformat_minor": 2
}
